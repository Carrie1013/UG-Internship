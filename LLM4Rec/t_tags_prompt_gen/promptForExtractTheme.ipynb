{
 "cells": [
  {
   "cell_type": "code",
   "execution_count": 3,
   "id": "b28e4543",
   "metadata": {},
   "outputs": [],
   "source": [
    "import pandas as pd\n",
    "df = pd.read_csv('movie_tags.csv')\n",
    "L = df.head(20)['title'].tolist()"
   ]
  },
  {
   "cell_type": "code",
   "execution_count": 7,
   "id": "4cb5a542",
   "metadata": {},
   "outputs": [
    {
     "name": "stderr",
     "output_type": "stream",
     "text": [
      "WARNING! engine is not default parameter.\n",
      "                    engine was transferred to model_kwargs.\n",
      "                    Please confirm that engine is what you intended.\n"
     ]
    },
    {
     "name": "stdout",
     "output_type": "stream",
     "text": [
      "{'目标电影': '封神三部曲', '标签': '剧情反转, 紧张刺激, 悬念迭起', '得分': '9.5, 9, 9'}\n",
      "{'目标电影': '长安三万里', '标签': '节奏缓慢', '得分': '10'}\n",
      "{'目标电影': '碟中谍7：致命清算（上）', '标签': '节奏紧凑, 紧张刺激, 高潮迭起', '得分': '10, 10, 10'}\n",
      "{'目标电影': '变形金刚：超能勇士崛起', '标签': '高潮迭起, 紧张刺激, 节奏紧凑', '得分': '10, 10, 10'}\n",
      "{'目标电影': '消失的她', '标签': '节奏紧凑, 悬念迭起, 悬疑重重', '得分': '10, 10, 10'}\n",
      "{“目标电影”:“速度与激情10”, “标签”:“节奏紧凑, 紧张刺激, 高潮迭起”, “得分”:“10, 10, 10”}\n",
      "{'目标电影': '哆啦A梦：大雄的新恐龙', '标签': '节奏明快, 轻松幽默', '得分': '10, 10'}\n",
      "{'目标电影': '我的爸爸是森林之王2', '标签': '节奏明快, 轻松幽默', '得分': '9.5, 9.2'}\n",
      "{'目标电影': '芭比公主历险记', '标签': '节奏明快, 轻松幽默', '得分': '10, 10'}\n",
      "{'目标电影': '暗杀风暴', '标签': '节奏紧凑, 紧张刺激, 悬疑重重', '得分': '10, 9.5, 9'}\n",
      "{'目标电影': '汪汪队立大功大电影', '标签': '节奏明快, 轻松幽默', '得分': '10, 10'}\n",
      "{'目标电影': '机械师', '标签': '节奏紧凑,紧张刺激,高潮迭起', '得分': '10,9.5,9'}\n",
      "{'目标电影': '铃芽之旅', '标签': '节奏缓慢, 情感共鸣', '得分': '9.5, 9.0'}\n",
      "{'目标电影': '熊出没·狂野大陆', '标签': '节奏明快, 轻松幽默', '得分': '10, 10'}\n",
      "{'目标电影': '山炮进城', '标签': '节奏明快, 轻松幽默', '得分': '9.5, 9.5'}\n",
      "{'目标电影': '萌鸡小队：萌闯新世界', '标签': '节奏明快, 轻松幽默', '得分': '10, 10'}\n",
      "{'目标电影': '银行家', '标签': '紧张刺激,悬疑重重', '得分': '10,10'}\n",
      "{'目标电影': '长津湖之水门桥', '标签': ['节奏紧凑', '剧情反转', '情感共鸣'], '得分': [9.5, 9.0, 9.5]}\n",
      "{'目标电影': '嫌疑人之长夜将尽', '标签': '节奏紧凑,紧张刺激,悬疑重重', '得分': '9.5,9,9'}\n",
      "{'目标电影': '疯狂动物城', '标签': '节奏明快, 轻松幽默', '得分': '10, 10'}\n"
     ]
    }
   ],
   "source": [
    "import json\n",
    "from tqdm.auto import trange\n",
    "from langchain.output_parsers import StructuredOutputParser, ResponseSchema\n",
    "from langchain.prompts.chat import ChatPromptTemplate, SystemMessagePromptTemplate, HumanMessagePromptTemplate\n",
    "import openai\n",
    "from langchain.chat_models import ChatOpenAI\n",
    "\n",
    "OPENAI_API_BASE= \"https://tcl-ai.openai.azure.com\"\n",
    "OPENAI_API_TYPE = \"azure\"\n",
    "OPENAI_API_VERSION = '2023-07-01-preview'\n",
    "OPENAI_API_KEY= \"6e25ec6fa59d44f8af091db59e6db6d7\"\n",
    "OPENAI_DEPLOYMENT_NAME = 'gpt-4-0314'\n",
    "\n",
    "openai.api_key = OPENAI_API_KEY\n",
    "openai.api_base = OPENAI_API_BASE\n",
    "openai.api_type = OPENAI_API_TYPE\n",
    "openai.api_version = OPENAI_API_VERSION\n",
    "chat = ChatOpenAI(engine=OPENAI_DEPLOYMENT_NAME, openai_api_key=OPENAI_API_KEY)\n",
    "\n",
    "theme_output= '''\n",
    "    {“目标电影”:“”,\n",
    "    “标签”:“”, \n",
    "    “得分”:“”}\n",
    "'''\n",
    "\n",
    "theme_template= '''\n",
    "    候选列表：{theme_list}\n",
    "    输出：剧情节奏\n",
    "    \n",
    "    请逐步思考\n",
    "    1.参考候选列表，结合你的知识(豆瓣,百度百科,维基百科等)，生成输出目标电影的剧情节奏，如果你不知道，请返回‘其他’\n",
    "    2.重复上述操作三次。\n",
    "    3.请针对上述所有标签，逐个判断是否有明确依据，输出符合程度‘高’，‘中’，‘低’。\n",
    "    4.仅保留符合程度为‘高’的标签，根据依据来源投票打分并排序（10分制），保留大于9分的标签；如果没有大于9分的标签，则仅保留top1的标签。\n",
    "    5.输出json格式，格式参考{output}。\n",
    "    6.如果步骤5生成的结果中，参考列表未出现且没有相似标签时，请添加到参考列表，并返回最新的参考列表\n",
    "    answer the users question as best as possible.\n",
    "    {format_instructions}\n",
    "'''\n",
    "\n",
    "theme_list = '''\n",
    "节奏缓慢，渐进节奏，节奏紧凑，剧情反转，紧张刺激，高潮迭起，悬念迭起，悬疑重重，回溯叙述，思考深度，情感共鸣，多线索，节奏明快, 轻松幽默\n",
    "'''\n",
    "\n",
    "response_schemas = [\n",
    "    ResponseSchema(name=\"1.generate one tag\", description=\"should be a string\"),\n",
    "    ResponseSchema(name=\"2.repeat 1 for 3 times\", description=\"\"),\n",
    "    ResponseSchema(name=\"3.judgement\", description=\"\"),\n",
    "    ResponseSchema(name=\"4.filter tags score and rank\", description=\"\"),\n",
    "    ResponseSchema(name=\"5.output\", description=\"should be a json format\"),\n",
    "]\n",
    "\n",
    "\n",
    "if __name__ =='__main__':\n",
    "   \n",
    "    results=dict()\n",
    "    for movie in L:\n",
    "        target_movie = movie\n",
    "\n",
    "        output_parser = StructuredOutputParser.from_response_schemas(response_schemas)\n",
    "        format_instructions = output_parser.get_format_instructions()\n",
    "\n",
    "        #输入格式\n",
    "        system_message_prompt = SystemMessagePromptTemplate.from_template(theme_template)\n",
    "        human_template=\"目标电影：{target_movie}\"\n",
    "        human_message_prompt = HumanMessagePromptTemplate.from_template(human_template)\n",
    "        prompt = ChatPromptTemplate(\n",
    "            messages=[system_message_prompt, human_message_prompt],\n",
    "            input_variables=[\"theme_list\",\"target_movie\",\"output\"],\n",
    "            partial_variables={\"format_instructions\": format_instructions}\n",
    "        )\n",
    "\n",
    "        _input = prompt.format_prompt(theme_list=theme_list,target_movie=target_movie,output=theme_output)\n",
    "        output = chat(_input.to_messages())\n",
    "        output = output_parser.parse(output.content)\n",
    "        try:\n",
    "            data = json.loads(output['5.output'])\n",
    "        except:\n",
    "            data  = output['5.output']\n",
    "            \n",
    "        print(data)"
   ]
  },
  {
   "cell_type": "code",
   "execution_count": 16,
   "id": "332c7150",
   "metadata": {},
   "outputs": [
    {
     "name": "stdout",
     "output_type": "stream",
     "text": [
      "theme_list: 真实改编,小说改编,漫画动画改编,翻拍,系列续集,原创剧本,故事改编,游戏改编,历史改编,人物传记,其他\n",
      "theme_output: {\"目标电影\":''\", \"改编来源\":\"\"}。\n",
      "theme_template: \n",
      "候选列表：{theme_list}\n",
      "输出：\n",
      "改编来源\n",
      "请逐步思考\n",
      "1.参考以上参考列表，输出目标电影的改变来源，如果你不知道，请返回‘其他’\n",
      "2.重复上述操作三次。\n",
      "3.请针对上述所有标签，逐个判断是否有明确依据，输出程度‘高’，‘中’，‘低’。\n",
      "4.保留程度为‘高’的标签，根据依据来源投票打分并排序（10分制），只保留Top 1的一个标签。\n",
      "5.最后判断保留的标签是否来源准确，如果准确，则输出该标签，否则输出‘其他’。输出json格式，格式参考{output}\n",
      "answer the users question as best as possible.\n",
      "{format_instructions}\n"
     ]
    }
   ],
   "source": [
    "# 输入字符串\n"
   ]
  },
  {
   "cell_type": "code",
   "execution_count": 39,
   "id": "46fba85f",
   "metadata": {},
   "outputs": [
    {
     "name": "stderr",
     "output_type": "stream",
     "text": [
      "WARNING! engine is not default parameter.\n",
      "                    engine was transferred to model_kwargs.\n",
      "                    Please confirm that engine is what you intended.\n"
     ]
    }
   ],
   "source": [
    "import json\n",
    "from tqdm.auto import trange\n",
    "from langchain.output_parsers import StructuredOutputParser, ResponseSchema\n",
    "from langchain.prompts.chat import ChatPromptTemplate, SystemMessagePromptTemplate, HumanMessagePromptTemplate\n",
    "import openai\n",
    "from langchain.chat_models import ChatOpenAI\n",
    "import pandas as pd\n",
    "df = pd.read_csv('movie_tags.csv')\n",
    "L = df.head(20)['title'].tolist() # 取前20个媒资\n",
    "\n",
    "OPENAI_API_BASE= \"https://tcl-ai.openai.azure.com\"\n",
    "OPENAI_API_TYPE = \"azure\"\n",
    "OPENAI_API_VERSION = '2023-07-01-preview'\n",
    "OPENAI_API_KEY= \"6e25ec6fa59d44f8af091db59e6db6d7\"\n",
    "OPENAI_DEPLOYMENT_NAME = 'gpt-4-0314'\n",
    "\n",
    "openai.api_key = OPENAI_API_KEY\n",
    "openai.api_base = OPENAI_API_BASE\n",
    "openai.api_type = OPENAI_API_TYPE\n",
    "openai.api_version = OPENAI_API_VERSION\n",
    "chat = ChatOpenAI(engine=OPENAI_DEPLOYMENT_NAME, openai_api_key=OPENAI_API_KEY)\n",
    "\n",
    "with open(\"prompts.txt\", \"r\", encoding=\"utf-8\") as file:\n",
    "    content = file.read()\n",
    "prompts = content.split(\"———————————————————————————————————————\")\n",
    "prompts = [prompt.strip() for prompt in prompts if prompt.strip()]\n",
    "\n",
    "# txt文件中提取input要求\n",
    "input_string = prompts[0]\n",
    "theme_list = input_string.split(\"参考列表：\")[1].split(\"]\")[0].replace(\"[\", \"\").strip()\n",
    "theme_output = input_string.split(\"输出json格式，格式参考\")[1].split(\".\")[0].strip()\n",
    "theme_template = '\\n候选列表：{theme_list}\\n输出：\\n' + input_string.split(\"输出：\")[1].replace(theme_output, '{output}').strip() + \"\\nanswer the users question as best as possible.\\n{format_instructions}\"\n",
    "\n",
    "\n",
    "theme_output= theme_output\n",
    "theme_template= theme_template\n",
    "theme_list = theme_list\n",
    "\n",
    "\n",
    "response_schemas = [\n",
    "    ResponseSchema(name=\"1.generate one tag\", description=\"should be a string\"),\n",
    "    ResponseSchema(name=\"2.repeat 1 for 3 times\", description=\"\"),\n",
    "    ResponseSchema(name=\"3.judgement\", description=\"\"),\n",
    "    ResponseSchema(name=\"4.filter tags score and rank\", description=\"\"),\n",
    "    ResponseSchema(name=\"5.output\", description=\"should be a json format\"),\n",
    "]\n",
    "\n",
    "\n",
    "if __name__ =='__main__':\n",
    "    \n",
    "    df = pd.DataFrame()\n",
    "    \n",
    "    for movie in L[:2]:\n",
    "        target_movie = movie\n",
    "\n",
    "        output_parser = StructuredOutputParser.from_response_schemas(response_schemas)\n",
    "        format_instructions = output_parser.get_format_instructions()\n",
    "\n",
    "        system_message_prompt = SystemMessagePromptTemplate.from_template(theme_template)\n",
    "        human_template=\"目标电影：{target_movie}\"\n",
    "        human_message_prompt = HumanMessagePromptTemplate.from_template(human_template)\n",
    "        prompt = ChatPromptTemplate(\n",
    "            messages=[system_message_prompt, human_message_prompt],\n",
    "            input_variables=[\"theme_list\", \"target_movie\", \"output\"],\n",
    "            partial_variables={\"format_instructions\": format_instructions}\n",
    "        )\n",
    "\n",
    "        _input = prompt.format_prompt(theme_list=theme_list, target_movie=target_movie, output=theme_output)\n",
    "        output = chat(_input.to_messages())\n",
    "        output = output_parser.parse(output.content)\n",
    "        \n",
    "        try:\n",
    "            data = json.loads(output['5.output'])\n",
    "        except:\n",
    "            data  = output['5.output']\n",
    "            \n",
    "        df = pd.concat([df, pd.DataFrame([data])])\n",
    "\n",
    "    df.to_csv(\"output.csv\")"
   ]
  },
  {
   "cell_type": "code",
   "execution_count": 40,
   "id": "3ef029ee",
   "metadata": {},
   "outputs": [
    {
     "data": {
      "text/html": [
       "<div>\n",
       "<style scoped>\n",
       "    .dataframe tbody tr th:only-of-type {\n",
       "        vertical-align: middle;\n",
       "    }\n",
       "\n",
       "    .dataframe tbody tr th {\n",
       "        vertical-align: top;\n",
       "    }\n",
       "\n",
       "    .dataframe thead th {\n",
       "        text-align: right;\n",
       "    }\n",
       "</style>\n",
       "<table border=\"1\" class=\"dataframe\">\n",
       "  <thead>\n",
       "    <tr style=\"text-align: right;\">\n",
       "      <th></th>\n",
       "      <th>目标电影</th>\n",
       "      <th>标签</th>\n",
       "      <th>得分</th>\n",
       "    </tr>\n",
       "  </thead>\n",
       "  <tbody>\n",
       "    <tr>\n",
       "      <th>0</th>\n",
       "      <td>封神三部曲</td>\n",
       "      <td>节奏紧凑</td>\n",
       "      <td>10</td>\n",
       "    </tr>\n",
       "    <tr>\n",
       "      <th>0</th>\n",
       "      <td>长安三万里</td>\n",
       "      <td>节奏紧凑, 剧情反转, 悬疑重重</td>\n",
       "      <td>10, 9.5, 9</td>\n",
       "    </tr>\n",
       "  </tbody>\n",
       "</table>\n",
       "</div>"
      ],
      "text/plain": [
       "    目标电影                标签          得分\n",
       "0  封神三部曲              节奏紧凑          10\n",
       "0  长安三万里  节奏紧凑, 剧情反转, 悬疑重重  10, 9.5, 9"
      ]
     },
     "execution_count": 40,
     "metadata": {},
     "output_type": "execute_result"
    }
   ],
   "source": [
    "df"
   ]
  },
  {
   "cell_type": "code",
   "execution_count": 41,
   "id": "f752e45d",
   "metadata": {},
   "outputs": [
    {
     "name": "stdout",
     "output_type": "stream",
     "text": [
      "WARNING! engine is not default parameter.\r\n",
      "                    engine was transferred to model_kwargs.\r\n",
      "                    Please confirm that engine is what you intended.\r\n"
     ]
    }
   ],
   "source": [
    "! python3 promptForExtract.py"
   ]
  },
  {
   "cell_type": "code",
   "execution_count": 25,
   "id": "a896df7b",
   "metadata": {},
   "outputs": [
    {
     "data": {
      "text/html": [
       "<div>\n",
       "<style scoped>\n",
       "    .dataframe tbody tr th:only-of-type {\n",
       "        vertical-align: middle;\n",
       "    }\n",
       "\n",
       "    .dataframe tbody tr th {\n",
       "        vertical-align: top;\n",
       "    }\n",
       "\n",
       "    .dataframe thead th {\n",
       "        text-align: right;\n",
       "    }\n",
       "</style>\n",
       "<table border=\"1\" class=\"dataframe\">\n",
       "  <thead>\n",
       "    <tr style=\"text-align: right;\">\n",
       "      <th></th>\n",
       "      <th>目标电影</th>\n",
       "      <th>改编来源</th>\n",
       "    </tr>\n",
       "  </thead>\n",
       "  <tbody>\n",
       "    <tr>\n",
       "      <th>0</th>\n",
       "      <td>长安三万里</td>\n",
       "      <td>历史改编</td>\n",
       "    </tr>\n",
       "  </tbody>\n",
       "</table>\n",
       "</div>"
      ],
      "text/plain": [
       "    目标电影  改编来源\n",
       "0  长安三万里  历史改编"
      ]
     },
     "execution_count": 25,
     "metadata": {},
     "output_type": "execute_result"
    }
   ],
   "source": []
  },
  {
   "cell_type": "code",
   "execution_count": null,
   "id": "e3d85285",
   "metadata": {},
   "outputs": [],
   "source": []
  }
 ],
 "metadata": {
  "kernelspec": {
   "display_name": "base",
   "language": "python",
   "name": "base"
  },
  "language_info": {
   "codemirror_mode": {
    "name": "ipython",
    "version": 3
   },
   "file_extension": ".py",
   "mimetype": "text/x-python",
   "name": "python",
   "nbconvert_exporter": "python",
   "pygments_lexer": "ipython3",
   "version": "3.10.10"
  }
 },
 "nbformat": 4,
 "nbformat_minor": 5
}
