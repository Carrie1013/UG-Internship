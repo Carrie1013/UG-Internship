{
 "cells": [
  {
   "cell_type": "code",
   "execution_count": 1,
   "metadata": {},
   "outputs": [
    {
     "name": "stdout",
     "output_type": "stream",
     "text": [
      "  ip_of_baseCid           ip  sd_income  click  show  ctr  ecpm\n",
      "0   192.168.1.1  192.168.1.1        100     10   100  0.1    10\n",
      "1   192.168.1.1  192.168.1.3        200     20   200  0.2    20\n",
      "2   192.168.1.1  192.168.1.2        300     30   300  0.3    30\n",
      "  ip_of_baseCid           ip  sd_income  click  show  ctr  ecpm\n",
      "0   192.168.1.1  192.168.1.1        100     10   100  0.1    10\n",
      "1   192.168.1.1  192.168.1.2        300     30   300  0.3    30\n",
      "2   192.168.1.1  192.168.1.3        200     20   200  0.2    20\n"
     ]
    }
   ],
   "source": [
    "import pandas as pd\n",
    "\n",
    "# Sample data\n",
    "data = {\n",
    "    'ip_of_baseCid': ['192.168.1.1', '192.168.1.1', '192.168.1.1'],\n",
    "    'ip': ['192.168.1.1', '192.168.1.3', '192.168.1.2'],\n",
    "    'sd_income': [100, 200, 300],\n",
    "    'click': [10, 20, 30],\n",
    "    'show': [100, 200, 300],\n",
    "    'ctr': [0.1, 0.2, 0.3],\n",
    "    'ecpm': [10, 20, 30]\n",
    "}\n",
    "\n",
    "df = pd.DataFrame(data)\n",
    "\n",
    "# Splitting the DataFrame\n",
    "df_same_ip = df[df['ip'] == df['ip_of_baseCid']]\n",
    "df_diff_ip = df[df['ip'] != df['ip_of_baseCid']]\n",
    "\n",
    "# Summing up the values where ip and ip_of_baseCid are different\n",
    "sum_df = df_diff_ip.groupby(['ip_of_baseCid', 'ip']).sum().reset_index()\n",
    "\n",
    "# Combining the two DataFrames\n",
    "result_df = pd.concat([df_same_ip, sum_df], ignore_index=True)\n",
    "print(df)\n",
    "print(result_df)"
   ]
  },
  {
   "cell_type": "code",
   "execution_count": 7,
   "metadata": {},
   "outputs": [
    {
     "name": "stdout",
     "output_type": "stream",
     "text": [
      "  ip_of_baseCid           ip  sd_income  click  show  ctr  ecpm\n",
      "0   192.168.1.1  192.168.1.1        100     10   100  0.1    10\n",
      "1   192.168.1.1  192.168.1.3        200     20   200  0.2    20\n",
      "2   192.168.1.1  192.168.1.2        300     30   300  0.3    30\n",
      "3   192.168.1.2  192.168.1.1        100     10   100  0.1    10\n",
      "4   192.168.1.2  192.168.1.3        200     20   200  0.2    20\n",
      "5   192.168.1.2  192.168.1.2        300     30   300  0.3    30\n",
      "  ip_of_baseCid           ip  sd_income  click  show  ctr  ecpm\n",
      "0   192.168.1.1  192.168.1.1        100     10   100  0.1    10\n",
      "5   192.168.1.2  192.168.1.2        300     30   300  0.3    30\n",
      "  ip_of_baseCid           ip  sd_income  click  show  ctr  ecpm\n",
      "1   192.168.1.1  192.168.1.3        200     20   200  0.2    20\n",
      "2   192.168.1.1  192.168.1.2        300     30   300  0.3    30\n",
      "3   192.168.1.2  192.168.1.1        100     10   100  0.1    10\n",
      "4   192.168.1.2  192.168.1.3        200     20   200  0.2    20\n",
      "  ip_of_baseCid              ip  sd_income  click  show  ctr  ecpm\n",
      "0   192.168.1.1  non192.168.1.1        500     50   500  0.5    50\n",
      "1   192.168.1.2  non192.168.1.2        300     30   300  0.3    30\n",
      "  ip_of_baseCid              ip  sd_income  click  show  ctr  ecpm\n",
      "0   192.168.1.1     192.168.1.1        100     10   100  0.1    10\n",
      "1   192.168.1.2     192.168.1.2        300     30   300  0.3    30\n",
      "2   192.168.1.1  non192.168.1.1        500     50   500  0.5    50\n",
      "3   192.168.1.2  non192.168.1.2        300     30   300  0.3    30\n"
     ]
    }
   ],
   "source": [
    "import pandas as pd\n",
    "\n",
    "data = {\n",
    "    'ip_of_baseCid': ['192.168.1.1', '192.168.1.1', '192.168.1.1', '192.168.1.2', '192.168.1.2', '192.168.1.2'],\n",
    "    'ip': ['192.168.1.1', '192.168.1.3', '192.168.1.2', '192.168.1.1', '192.168.1.3', '192.168.1.2'],\n",
    "    'sd_income': [100, 200, 300, 100, 200, 300],\n",
    "    'click': [10, 20, 30, 10, 20, 30],\n",
    "    'show': [100, 200, 300, 100, 200, 300],\n",
    "    'ctr': [0.1, 0.2, 0.3, 0.1, 0.2, 0.3],\n",
    "    'ecpm': [10, 20, 30, 10, 20, 30]\n",
    "}\n",
    "sum_top_20 = pd.DataFrame(data)\n",
    "\n",
    "# Where 'ip' equals 'ip_of_baseCid'\n",
    "equal_df = sum_top_20[sum_top_20['ip'] == sum_top_20['ip_of_baseCid']]\n",
    "\n",
    "# Where 'ip' does not equal 'ip_of_baseCid'\n",
    "not_equal_df = sum_top_20[sum_top_20['ip'] != sum_top_20['ip_of_baseCid']]\n",
    "not_equal_grouped = not_equal_df.groupby('ip_of_baseCid').sum().reset_index()\n",
    "not_equal_grouped['ip'] = 'non' + not_equal_grouped['ip_of_baseCid']\n",
    "\n",
    "# Combine both DataFrames\n",
    "final_df = pd.concat([equal_df, not_equal_grouped], ignore_index=True)\n",
    "\n",
    "# Reorder the columns\n",
    "final_df = final_df[['ip_of_baseCid', 'ip', 'sd_income', 'click', 'show', 'ctr', 'ecpm']]\n",
    "\n",
    "print(sum_top_20)\n",
    "print(equal_df)\n",
    "print(not_equal_df)\n",
    "print(not_equal_grouped)\n",
    "print(final_df)\n"
   ]
  },
  {
   "cell_type": "code",
   "execution_count": null,
   "metadata": {},
   "outputs": [],
   "source": [
    "basecid_click_sum = final_df_all.groupby('ip_of_baseCid')['click'].sum()\n",
    "top_20_basecid_click_sum = basecid_click_sum[top_20_basecid_show_sum.index]\n",
    "#\n",
    "total_click_sum = basecid_click_sum.sum()\n",
    "top_20_click_rate = top_20_basecid_click_sum / total_click_sum\n",
    "result_click_df = pd.DataFrame({\n",
    "    'baseCid': top_20_basecid_show_sum.index,\n",
    "    'sum_click': top_20_basecid_click_sum.values,\n",
    "    'rate': top_20_click_rate.values\n",
    "})\n",
    "result_click_df #click占比"
   ]
  },
  {
   "cell_type": "markdown",
   "metadata": {},
   "source": []
  }
 ],
 "metadata": {
  "kernelspec": {
   "display_name": "cq1",
   "language": "python",
   "name": "python3"
  },
  "language_info": {
   "codemirror_mode": {
    "name": "ipython",
    "version": 3
   },
   "file_extension": ".py",
   "mimetype": "text/x-python",
   "name": "python",
   "nbconvert_exporter": "python",
   "pygments_lexer": "ipython3",
   "version": "3.9.16"
  },
  "orig_nbformat": 4
 },
 "nbformat": 4,
 "nbformat_minor": 2
}
