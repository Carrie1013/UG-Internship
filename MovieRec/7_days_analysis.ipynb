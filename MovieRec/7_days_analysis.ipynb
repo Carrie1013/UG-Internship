{
 "cells": [
  {
   "cell_type": "code",
   "execution_count": 1,
   "id": "e500f21e",
   "metadata": {},
   "outputs": [],
   "source": [
    "import pandas as pd\n",
    "import pickle\n",
    "import datetime\n",
    "import numpy as np\n",
    "from collections import Counter\n",
    "from itertools import chain \n",
    "import re\n",
    "pd.set_option(\"display.max_columns\",5000)\n",
    "import matplotlib.pyplot as plt"
   ]
  },
  {
   "cell_type": "code",
   "execution_count": 2,
   "id": "b1139c88",
   "metadata": {},
   "outputs": [
    {
     "name": "stdout",
     "output_type": "stream",
     "text": [
      "20236\n",
      "12081\n"
     ]
    },
    {
     "data": {
      "text/plain": [
       "content_type\n",
       "1    12081\n",
       "Name: aid, dtype: int64"
      ]
     },
     "execution_count": 2,
     "metadata": {},
     "output_type": "execute_result"
    }
   ],
   "source": [
    "col=['aid','title','year','nation','language','types','tags','actors','directors']\n",
    "date = datetime.datetime.today()- datetime.timedelta(1)\n",
    "yes_date = (datetime.datetime.today() - datetime.timedelta(1)).strftime(\"%Y%m%d\")\n",
    "media = pd.read_parquet(\"/data/gangyanyuan/data_rr/doubaninfo_detail_merged_rr_v2\")\n",
    "\n",
    "ldd = media[(media.channel_name=='少儿')&(media.operate_status=='1' )]\n",
    "print(ldd.shape[0])\n",
    "ldd = ldd[ldd.vendor_list.apply(lambda x:\"310\" in x)]\n",
    "print(ldd.shape[0])\n",
    "ldd.groupby(\"content_type\").aid.nunique()"
   ]
  },
  {
   "cell_type": "markdown",
   "id": "c662f3df",
   "metadata": {},
   "source": [
    "# get data"
   ]
  },
  {
   "cell_type": "code",
   "execution_count": 3,
   "id": "5b1bdf56",
   "metadata": {},
   "outputs": [
    {
     "data": {
      "text/html": [
       "<div>\n",
       "<style scoped>\n",
       "    .dataframe tbody tr th:only-of-type {\n",
       "        vertical-align: middle;\n",
       "    }\n",
       "\n",
       "    .dataframe tbody tr th {\n",
       "        vertical-align: top;\n",
       "    }\n",
       "\n",
       "    .dataframe thead th {\n",
       "        text-align: right;\n",
       "    }\n",
       "</style>\n",
       "<table border=\"1\" class=\"dataframe\">\n",
       "  <thead>\n",
       "    <tr style=\"text-align: right;\">\n",
       "      <th></th>\n",
       "      <th>dnum</th>\n",
       "      <th>activeName</th>\n",
       "      <th>baseCid</th>\n",
       "      <th>cid</th>\n",
       "      <th>dateTime</th>\n",
       "      <th>position</th>\n",
       "      <th>columnsName</th>\n",
       "      <th>algo_type</th>\n",
       "    </tr>\n",
       "  </thead>\n",
       "  <tbody>\n",
       "    <tr>\n",
       "      <th>0</th>\n",
       "      <td>414159675</td>\n",
       "      <td>click</td>\n",
       "      <td>TZvnQgWOjc1665211858040</td>\n",
       "      <td>YxZosVLdrc1612689195477</td>\n",
       "      <td>2023-08-11 11:37:40</td>\n",
       "      <td>{0,2}</td>\n",
       "      <td>【猜你喜欢↓↓↓】</td>\n",
       "      <td>trex</td>\n",
       "    </tr>\n",
       "    <tr>\n",
       "      <th>1</th>\n",
       "      <td>545185226</td>\n",
       "      <td>show</td>\n",
       "      <td>HgCggrKDkP1629110445085</td>\n",
       "      <td>EcjztyVhJg1689303456414</td>\n",
       "      <td>2023-08-11 15:47:36</td>\n",
       "      <td>{0,2}</td>\n",
       "      <td>热播风向标：和全球小伙伴一起看</td>\n",
       "      <td></td>\n",
       "    </tr>\n",
       "  </tbody>\n",
       "</table>\n",
       "</div>"
      ],
      "text/plain": [
       "        dnum activeName                  baseCid                      cid  \\\n",
       "0  414159675      click  TZvnQgWOjc1665211858040  YxZosVLdrc1612689195477   \n",
       "1  545185226       show  HgCggrKDkP1629110445085  EcjztyVhJg1689303456414   \n",
       "\n",
       "              dateTime position      columnsName algo_type  \n",
       "0  2023-08-11 11:37:40    {0,2}        【猜你喜欢↓↓↓】      trex  \n",
       "1  2023-08-11 15:47:36    {0,2}  热播风向标：和全球小伙伴一起看            "
      ]
     },
     "execution_count": 3,
     "metadata": {},
     "output_type": "execute_result"
    }
   ],
   "source": [
    "log = pd.read_parquet(f\"/data/gangyanyuan/data_rr/user_click_exposure_video_raw_ldd_rr/year=2023/month=8/day=11\")\n",
    "log.head(2)"
   ]
  },
  {
   "cell_type": "code",
   "execution_count": 4,
   "id": "ee1efee6",
   "metadata": {},
   "outputs": [],
   "source": [
    "def get_dnum_eps_ndays(date_range):\n",
    "    data_dnum = []\n",
    "\n",
    "    for i in range(date_range):\n",
    "        date = datetime.datetime.today() - datetime.timedelta(i+1)\n",
    "        log = pd.read_parquet(f\"/data/gangyanyuan/data_rr/user_click_exposure_video_raw_ldd_rr/year={date.year}/month={date.month}/day={date.day}\")\n",
    "        log = pd.merge(log, media[['aid']],left_on='baseCid',right_on=\"aid\")\n",
    "        log = log[log.algo_type!='']\n",
    "        dnum = log.groupby([\"dnum\",\"activeName\",\"algo_type\"]).agg({\"cid\":\"count\"}).reset_index()\n",
    "        dnum = pd.pivot(dnum, index=[\"dnum\",\"algo_type\"], columns=['activeName'], values=['cid']).reset_index()\n",
    "        dnum['date'] = date.strftime(\"%Y%m%d\")\n",
    "        data_dnum.append(dnum)\n",
    "        del log, dnum\n",
    "        \n",
    "    data_dnum = pd.concat(data_dnum)\n",
    "    data_dnum.columns = ['dnum', 'algo_type', 'clk_pv','show_pv','date']\n",
    "    \n",
    "    # 判断冷启动用户\n",
    "    data_dnum['is_cold_start'] = data_dnum.groupby('dnum')['date'].transform(lambda x: ((pd.to_datetime(x, format=\"%Y%m%d\") - pd.to_datetime(x.max(), format=\"%Y%m%d\")).dt.days >= -7) & ((pd.to_datetime(x, format=\"%Y%m%d\") - pd.to_datetime(x.max(), format=\"%Y%m%d\")).dt.days <= -1))\n",
    "    \n",
    "    # 分组冷启动用户和非冷启动用户\n",
    "    cold_start_users = data_dnum[data_dnum['is_cold_start'] == True]\n",
    "    non_cold_start_users = data_dnum[data_dnum['is_cold_start'] == False]\n",
    "    \n",
    "    return cold_start_users, non_cold_start_users"
   ]
  },
  {
   "cell_type": "code",
   "execution_count": null,
   "id": "cba697b7",
   "metadata": {},
   "outputs": [],
   "source": [
    "data_dnum.head(10)"
   ]
  },
  {
   "cell_type": "code",
   "execution_count": null,
   "id": "b05317bb",
   "metadata": {},
   "outputs": [],
   "source": [
    "data_dnum['bucket'] = data_dnum.dnum.apply(lambda x: str(x)[-1] if len(x)>0 else '')"
   ]
  },
  {
   "cell_type": "code",
   "execution_count": null,
   "id": "8a403e08",
   "metadata": {},
   "outputs": [],
   "source": [
    "def get_pay_data(date_range):\n",
    "    pay_data = []\n",
    "    for i in range(date_range):\n",
    "        date = datetime.datetime.today() - datetime.timedelta(i+1)\n",
    "        path  = f'/data/gangyanyuan/data_rr/vod_ldd_ecpm_daily_details_rr/year={date.year}/month={date.month}/day={date.day}'\n",
    "        data = pd.read_parquet(path)\n",
    "        data['bucket'] = data.dnum.apply(lambda x: str(x)[-1])\n",
    "        data['date'] = date.strftime(\"%Y%m%d\")\n",
    "        pay_data.append(data)\n",
    "    pay_data = pd.concat(pay_data)\n",
    "    return pay_data"
   ]
  },
  {
   "cell_type": "code",
   "execution_count": null,
   "id": "8baa066d",
   "metadata": {},
   "outputs": [],
   "source": [
    "pay_data = get_pay_data(8)"
   ]
  },
  {
   "cell_type": "markdown",
   "id": "9f191c05",
   "metadata": {},
   "source": [
    "# 7天冷启动和非冷启动的ctr和ecpm"
   ]
  },
  {
   "cell_type": "code",
   "execution_count": null,
   "id": "7fc3c226",
   "metadata": {},
   "outputs": [],
   "source": [
    "data_dnum['clk_pv'] =data_dnum.clk_pv.fillna(0)\n",
    "data_dnum['ctr'] = data_dnum['clk_pv'] / data_dnum['show_pv']\n",
    "pay_data['ecpm'] = pay_data['sd_income'] / data_dnum['show_pv']\n",
    "\n",
    "for is_cold_start in [True, False]:\n",
    "    plt.figure(figsize=(40,4))    \n",
    "    for algo_type in ['replace','trex']:\n",
    "        tmp = data_dnum[(data_dnum.algo_type==algo_type)&(data_dnum.is_cold_start==is_cold_start)].sort_values(\"date\")\n",
    "        plt.plot(tmp.date, tmp.ctr,label=algo_type+'_'+str(is_cold_start))\n",
    "    plt.title(\"ctr\")\n",
    "    plt.legend()\n",
    "    plt.show()\n",
    "\n",
    "for is_cold_start in [True, False]:\n",
    "    plt.figure(figsize=(40,4))    \n",
    "    for algo_type in ['replace','trex']:\n",
    "        tmp = data_dnum[(data_dnum.algo_type==algo_type)&(data_dnum.is_cold_start==is_cold_start)].sort_values(\"date\")\n",
    "        plt.plot(tmp.date, tmp.ecpm,label=algo_type+'_'+str(is_cold_start))\n",
    "    plt.title(\"ecpm\")\n",
    "    plt.legend()\n",
    "    plt.show()"
   ]
  },
  {
   "cell_type": "markdown",
   "id": "cbf8b962",
   "metadata": {},
   "source": [
    "# 没有出现在前7天的用户在当天的用户占比"
   ]
  },
  {
   "cell_type": "code",
   "execution_count": null,
   "id": "d1e38ab0",
   "metadata": {},
   "outputs": [],
   "source": [
    "df_date_pv = pd.data_dnum(data_dnum,columns=['is_cold_start'],index=['algo_type','date'],values=['show_pv']).reset_index()\n",
    "df_date_pv.columns=['algo_type','date','show_pv_活跃','show_pv_冷启']\n",
    "df_date_pv['show_pv_冷启占比'] = df_date_pv.show_pv_冷启/(df_date_pv.show_pv_活跃+df_date_pv.show_pv_冷启)*100\n",
    "plt.figure(figsize=(20,4))   \n",
    "for algo_type in ['replace','trex']:\n",
    "    \n",
    "    tmp = df_date_pv[(df_date_pv.algo_type==algo_type)].sort_values(\"date\")\n",
    "    plt.plot(tmp.date, tmp.show_pv_冷启占比,label=algo_type)\n",
    "plt.title(\"show_pv_冷启占比%\")\n",
    "plt.legend()\n",
    "plt.show()"
   ]
  },
  {
   "cell_type": "code",
   "execution_count": null,
   "id": "364892bc",
   "metadata": {},
   "outputs": [],
   "source": [
    "def get_dnum_per_not_appear_in_last_ndays(data, target_date,n):\n",
    "    \n",
    "    date_start = (datetime.datetime.strptime(target_date,\"%Y%m%d\")- datetime.timedelta(n)).strftime(\"%Y%m%d\")\n",
    "    def cpr(x,target_date,n):\n",
    "        if x==target_date:\n",
    "            return True\n",
    "        elif x<target_date and x>=date_start:\n",
    "            return False\n",
    "        else:\n",
    "            return ''\n",
    "        \n",
    "    data['is_target_day'] = data.date.apply(lambda x: cpr(x,target_date,n))\n",
    "    data = data[data.is_target_day!='']\n",
    "    data = data.groupby([\"is_target_day\",\"bucket\"]).dnum.unique().reset_index()\n",
    "    data['dnum_size'] = data.dnum.apply(len)\n",
    "    data_bucket = pd.pivot(data,index=['bucket'],columns=['is_target_day'],values=['dnum','dnum_size']).reset_index()\n",
    "    data_bucket.columns=['bucket','历史N天用户','当天用户',\"历史N天用户数量\",'当天用户数量']\n",
    "\n",
    "    data_bucket['当天冷启动用户'] = data_bucket[['历史N天用户','当天用户']].apply(lambda x:set(x.当天用户)- set(x.历史N天用户) ,axis=1)\n",
    "    data_bucket['当天冷启动用户数量'] = data_bucket.当天冷启动用户.apply(len)\n",
    "    \n",
    "    data_bucket['当天冷启动用户数量'] = data_bucket.当天冷启动用户数量.fillna(0)\n",
    "    data_bucket['当天用户数量'] = data_bucket.当天用户数量.fillna(0)\n",
    "    data_bucket['当天冷启动用户占比'] = data_bucket.当天冷启动用户数量/(data_bucket.当天用户数量+1e-9)*100\n",
    "    return data_bucket"
   ]
  },
  {
   "cell_type": "code",
   "execution_count": null,
   "id": "9477e80e",
   "metadata": {},
   "outputs": [],
   "source": [
    "dnum_bucket = get_dnum_per_not_appear_in_last_ndays(data_dnum, '20230816',7)"
   ]
  },
  {
   "cell_type": "code",
   "execution_count": null,
   "id": "c02e86de",
   "metadata": {},
   "outputs": [],
   "source": [
    "dnum_bucket"
   ]
  }
 ],
 "metadata": {
  "kernelspec": {
   "display_name": "Python [conda env:recsys2] *",
   "language": "python",
   "name": "conda-env-recsys2-py"
  },
  "language_info": {
   "codemirror_mode": {
    "name": "ipython",
    "version": 3
   },
   "file_extension": ".py",
   "mimetype": "text/x-python",
   "name": "python",
   "nbconvert_exporter": "python",
   "pygments_lexer": "ipython3",
   "version": "3.7.7"
  },
  "toc": {
   "base_numbering": 1,
   "nav_menu": {},
   "number_sections": true,
   "sideBar": true,
   "skip_h1_title": false,
   "title_cell": "Table of Contents",
   "title_sidebar": "Contents",
   "toc_cell": false,
   "toc_position": {},
   "toc_section_display": true,
   "toc_window_display": false
  }
 },
 "nbformat": 4,
 "nbformat_minor": 5
}
