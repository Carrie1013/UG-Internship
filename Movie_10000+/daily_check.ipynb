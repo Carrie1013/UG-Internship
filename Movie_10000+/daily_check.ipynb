{
 "cells": [
  {
   "cell_type": "code",
   "execution_count": 1,
   "id": "a72a4115",
   "metadata": {},
   "outputs": [
    {
     "name": "stderr",
     "output_type": "stream",
     "text": [
      "Setting default log level to \"WARN\".\n",
      "To adjust logging level use sc.setLogLevel(newLevel). For SparkR, use setLogLevel(newLevel).\n"
     ]
    }
   ],
   "source": [
    "import pandas as pd\n",
    "import pickle\n",
    "import datetime\n",
    "\n",
    "import argparse\n",
    "import datetime\n",
    "from pyspark.sql import SparkSession\n",
    "import pyspark.sql.functions as F\n",
    "import pyspark.sql.types as T\n",
    "from pyspark.sql.window import Window\n",
    "\n",
    "# dya\n",
    "spark = SparkSession \\\n",
    "    .builder \\\n",
    "    .config(\"spark.hadoop.hive.exec.dynamic.partition\", \"true\") \\\n",
    "    .config(\"spark.hadoop.hive.exec.dynamic.partition.mode\", \"nonstrict\") \\\n",
    "    .config(\"spark.sql.sources.partitionOverwriteMode\", \"dynamic\")\\\n",
    "    .enableHiveSupport() \\\n",
    "    .getOrCreate()\n",
    "\n",
    "sc = spark.sparkContext\n",
    "\n",
    "sc.setLogLevel(\"ERROR\")\n",
    "spark.sql('set spark.sql.caseSensitive=true')\n",
    "spark.conf.set(\"spark.sql.hive.convertMetastoreParquet\", \"false\")"
   ]
  },
  {
   "cell_type": "code",
   "execution_count": 29,
   "id": "82b213dd",
   "metadata": {},
   "outputs": [
    {
     "name": "stderr",
     "output_type": "stream",
     "text": [
      "[Stage 88:====>                                                                                                                            (90 + 8) / 2548]"
     ]
    }
   ],
   "source": [
    "# data_date = datetime.datetime.today()- datetime.timedelta(1)\n",
    "# year= data_date.year\n",
    "# month = data_date.month\n",
    "# day = data_date.day\n",
    "data_date_str = (datetime.datetime.today()- datetime.timedelta(1)).strftime(\"%Y-%m-%d\")\n",
    "\n",
    "pay = pd.read_parquet(f\"/data/gangyanyuan/data_rr/user_pay_movie1w/data_date={data_date_str}\")\n",
    "pay['bucket'] = pay.dnum.apply(lambda x:x[-1])\n",
    "pay['user_aid_income'] = pay.user_aid_income.astype(float)\n",
    "pay['sd_income'] = pay.sd_income.astype(float)"
   ]
  },
  {
   "cell_type": "markdown",
   "id": "c0c2ab21",
   "metadata": {},
   "source": [
    "#6号桶付费情况"
   ]
  },
  {
   "cell_type": "code",
   "execution_count": 18,
   "id": "65500ce2",
   "metadata": {
    "scrolled": true
   },
   "outputs": [
    {
     "data": {
      "text/html": [
       "<div>\n",
       "<style scoped>\n",
       "    .dataframe tbody tr th:only-of-type {\n",
       "        vertical-align: middle;\n",
       "    }\n",
       "\n",
       "    .dataframe tbody tr th {\n",
       "        vertical-align: top;\n",
       "    }\n",
       "\n",
       "    .dataframe thead th {\n",
       "        text-align: right;\n",
       "    }\n",
       "</style>\n",
       "<table border=\"1\" class=\"dataframe\">\n",
       "  <thead>\n",
       "    <tr style=\"text-align: right;\">\n",
       "      <th></th>\n",
       "      <th>dnum</th>\n",
       "      <th>vid</th>\n",
       "      <th>title</th>\n",
       "      <th>bucket_cate</th>\n",
       "      <th>resourcetype</th>\n",
       "      <th>algo_type</th>\n",
       "      <th>paymode</th>\n",
       "      <th>clicktime</th>\n",
       "      <th>pay_time</th>\n",
       "      <th>user_clk_cnt</th>\n",
       "      <th>user_aid_income</th>\n",
       "      <th>income</th>\n",
       "      <th>sd_income</th>\n",
       "      <th>ecpm</th>\n",
       "      <th>eps_pv</th>\n",
       "      <th>eps_uv</th>\n",
       "      <th>clkc_pv</th>\n",
       "      <th>ctr</th>\n",
       "      <th>bucket</th>\n",
       "    </tr>\n",
       "  </thead>\n",
       "  <tbody>\n",
       "    <tr>\n",
       "      <th>1</th>\n",
       "      <td>516672266</td>\n",
       "      <td>76n6vdky9nfocyg</td>\n",
       "      <td>阿凡达：水之道</td>\n",
       "      <td>autoIntV3</td>\n",
       "      <td>推荐算法</td>\n",
       "      <td>ManualHot</td>\n",
       "      <td>2.0</td>\n",
       "      <td>2023-08-09 04:55:39</td>\n",
       "      <td>2023-08-09 05:03:30</td>\n",
       "      <td>1</td>\n",
       "      <td>9.0</td>\n",
       "      <td>9.00</td>\n",
       "      <td>9.0</td>\n",
       "      <td>5.9682</td>\n",
       "      <td>1508</td>\n",
       "      <td>1214</td>\n",
       "      <td>14</td>\n",
       "      <td>0.0093</td>\n",
       "      <td>6</td>\n",
       "    </tr>\n",
       "    <tr>\n",
       "      <th>4</th>\n",
       "      <td>559847986</td>\n",
       "      <td>fhe2h7sop52qzza</td>\n",
       "      <td>疯狂动物城</td>\n",
       "      <td>autoIntV3</td>\n",
       "      <td>推荐算法</td>\n",
       "      <td>ManualHot</td>\n",
       "      <td>5.0</td>\n",
       "      <td>2023-08-09 09:45:09</td>\n",
       "      <td>2023-08-09 09:53:41</td>\n",
       "      <td>1</td>\n",
       "      <td>15.0</td>\n",
       "      <td>15.00</td>\n",
       "      <td>15.0</td>\n",
       "      <td>5.3841</td>\n",
       "      <td>2786</td>\n",
       "      <td>2093</td>\n",
       "      <td>77</td>\n",
       "      <td>0.0276</td>\n",
       "      <td>6</td>\n",
       "    </tr>\n",
       "    <tr>\n",
       "      <th>8</th>\n",
       "      <td>558903916</td>\n",
       "      <td>bv8m91i5jj1w1ww</td>\n",
       "      <td>冰雪奇缘</td>\n",
       "      <td>autoIntV3</td>\n",
       "      <td>推荐算法</td>\n",
       "      <td>ManualHot</td>\n",
       "      <td>5.0</td>\n",
       "      <td>2023-08-08 23:31:26</td>\n",
       "      <td>2023-08-08 23:36:00</td>\n",
       "      <td>1</td>\n",
       "      <td>19.0</td>\n",
       "      <td>19.00</td>\n",
       "      <td>19.0</td>\n",
       "      <td>3.9200</td>\n",
       "      <td>4847</td>\n",
       "      <td>3654</td>\n",
       "      <td>128</td>\n",
       "      <td>0.0264</td>\n",
       "      <td>6</td>\n",
       "    </tr>\n",
       "    <tr>\n",
       "      <th>18</th>\n",
       "      <td>437125926</td>\n",
       "      <td>fhe2h7sop52qzza</td>\n",
       "      <td>疯狂动物城</td>\n",
       "      <td>autoIntV3</td>\n",
       "      <td>推荐算法</td>\n",
       "      <td>-</td>\n",
       "      <td>5.0</td>\n",
       "      <td>2023-08-09 11:40:22</td>\n",
       "      <td>2023-08-09 11:47:15</td>\n",
       "      <td>1</td>\n",
       "      <td>68.0</td>\n",
       "      <td>68.00</td>\n",
       "      <td>68.0</td>\n",
       "      <td>49.1685</td>\n",
       "      <td>1383</td>\n",
       "      <td>922</td>\n",
       "      <td>32</td>\n",
       "      <td>0.0231</td>\n",
       "      <td>6</td>\n",
       "    </tr>\n",
       "  </tbody>\n",
       "</table>\n",
       "</div>"
      ],
      "text/plain": [
       "         dnum              vid    title bucket_cate resourcetype  algo_type  \\\n",
       "1   516672266  76n6vdky9nfocyg  阿凡达：水之道   autoIntV3         推荐算法  ManualHot   \n",
       "4   559847986  fhe2h7sop52qzza    疯狂动物城   autoIntV3         推荐算法  ManualHot   \n",
       "8   558903916  bv8m91i5jj1w1ww     冰雪奇缘   autoIntV3         推荐算法  ManualHot   \n",
       "18  437125926  fhe2h7sop52qzza    疯狂动物城   autoIntV3         推荐算法          -   \n",
       "\n",
       "    paymode           clicktime            pay_time  user_clk_cnt  \\\n",
       "1       2.0 2023-08-09 04:55:39 2023-08-09 05:03:30             1   \n",
       "4       5.0 2023-08-09 09:45:09 2023-08-09 09:53:41             1   \n",
       "8       5.0 2023-08-08 23:31:26 2023-08-08 23:36:00             1   \n",
       "18      5.0 2023-08-09 11:40:22 2023-08-09 11:47:15             1   \n",
       "\n",
       "    user_aid_income income  sd_income     ecpm  eps_pv  eps_uv  clkc_pv  \\\n",
       "1               9.0   9.00        9.0   5.9682    1508    1214       14   \n",
       "4              15.0  15.00       15.0   5.3841    2786    2093       77   \n",
       "8              19.0  19.00       19.0   3.9200    4847    3654      128   \n",
       "18             68.0  68.00       68.0  49.1685    1383     922       32   \n",
       "\n",
       "       ctr bucket  \n",
       "1   0.0093      6  \n",
       "4   0.0276      6  \n",
       "8   0.0264      6  \n",
       "18  0.0231      6  "
      ]
     },
     "execution_count": 18,
     "metadata": {},
     "output_type": "execute_result"
    }
   ],
   "source": [
    "pay[pay.bucket.isin(['6'])]"
   ]
  },
  {
   "cell_type": "markdown",
   "id": "d4b78a07",
   "metadata": {},
   "source": [
    "#对应一天的用户的点击记录(主要是为了看历史点击数据)"
   ]
  },
  {
   "cell_type": "code",
   "execution_count": 19,
   "id": "eb2914fd",
   "metadata": {},
   "outputs": [
    {
     "name": "stderr",
     "output_type": "stream",
     "text": [
      "                                                                                                                                                           \r"
     ]
    },
    {
     "name": "stdout",
     "output_type": "stream",
     "text": [
      "+----------+---------------+---------+--------------+---------+------------------+\n",
      "| data_date|            vid|     dnum|resourcelayout|algo_type|collect_set(title)|\n",
      "+----------+---------------+---------+--------------+---------+------------------+\n",
      "|2023-08-09|76n6vdky9nfocyg|516672266|   {30,0,35,7}|ManualHot|  [阿凡达：水之道]|\n",
      "+----------+---------------+---------+--------------+---------+------------------+\n",
      "\n"
     ]
    }
   ],
   "source": [
    "click_df = spark.sql(f\"select * from dw_temp.xuyh_launcher_click WHERE  \\\n",
    "                      (data_date = '{data_date_str}') and mediatype=='电影'\")\n",
    "click_df[click_df.dnum=='516672266'].groupby(['data_date','vid','dnum','resourcelayout','algo_type']).agg(F.collect_set(\"title\")).show()"
   ]
  },
  {
   "cell_type": "code",
   "execution_count": 23,
   "id": "b964eec5",
   "metadata": {},
   "outputs": [
    {
     "name": "stderr",
     "output_type": "stream",
     "text": [
      "                                                                                                                                                           \r"
     ]
    },
    {
     "name": "stdout",
     "output_type": "stream",
     "text": [
      "+----------+--------------------+---------+--------------+----------+--------------------+\n",
      "| data_date|                 vid|     dnum|resourcelayout| algo_type|  collect_set(title)|\n",
      "+----------+--------------------+---------+--------------+----------+--------------------+\n",
      "|2023-08-08|CCTCLxMrbY1612921...|516672266|    {0,0,11,4}| jxTop-310|[汪汪队立大功 第2季]|\n",
      "|2023-08-08|DGFAIDIqGH1600322...|516672266|     {3,0,5,3}|offline-v1|    [爆笑虫子无人岛]|\n",
      "|2023-08-08|                   -|516672266|   {20,4,23,7}|         -|          [全部动画]|\n",
      "+----------+--------------------+---------+--------------+----------+--------------------+\n",
      "\n"
     ]
    }
   ],
   "source": [
    "click_df = spark.sql(f\"select * from dw_temp.xuyh_launcher_click WHERE  \\\n",
    "                      (data_date = '{data_date_str}')\")\n",
    "click_df[click_df.dnum=='516672266'].groupby(['data_date','vid','dnum','resourcelayout','algo_type']).agg(F.collect_set(\"title\")).show()"
   ]
  },
  {
   "cell_type": "code",
   "execution_count": 30,
   "id": "06c9b575",
   "metadata": {},
   "outputs": [
    {
     "name": "stderr",
     "output_type": "stream",
     "text": [
      "                                                                                                                                                           \r"
     ]
    },
    {
     "name": "stdout",
     "output_type": "stream",
     "text": [
      "+----------+------------------+---------+--------------+---------+--------------------------+\n",
      "| data_date|               vid|     dnum|resourcelayout|algo_type|        collect_set(title)|\n",
      "+----------+------------------+---------+--------------+---------+--------------------------+\n",
      "|2023-08-09|   mzc00200kzadcff|516672266|   {24,0,29,7}|ManualHot|                [龙马精神]|\n",
      "|2023-08-09|156264998568561502|516672266|   {18,0,35,7}|        -|        [狙击手：特别行动]|\n",
      "|2023-08-09|   bv8m91i5jj1w1ww|516672266|   {12,0,17,7}|ManualHot|                [冰雪奇缘]|\n",
      "|2023-08-09|   mzc00200yt0bu15|516672266|    {0,0,11,7}|        -|                [长空之王]|\n",
      "|2023-08-09|   mzc00200hrjy2c7|516672266|   {12,0,23,7}|  AutoInt|[《八角笼中》小人物奋斗史]|\n",
      "|2023-08-09|   fhe2h7sop52qzza|516672266|   {18,0,23,7}|ManualHot|              [疯狂动物城]|\n",
      "|2023-08-09|   76n6vdky9nfocyg|516672266|   {30,0,35,7}|ManualHot|          [阿凡达：水之道]|\n",
      "+----------+------------------+---------+--------------+---------+--------------------------+\n",
      "\n"
     ]
    }
   ],
   "source": [
    "expose_df = spark.sql(f\"select * from dw_temp.xuyh_launcher_expose WHERE  \\\n",
    "                      (data_date = '{data_date_str}') and mediatype=='电影'\")\n",
    "expose_df[expose_df.dnum=='516672266'].groupby(['data_date','vid','dnum','resourcelayout','algo_type']).agg(F.collect_set(\"title\")).show()"
   ]
  },
  {
   "cell_type": "markdown",
   "id": "65a66ee0",
   "metadata": {
    "heading_collapsed": true
   },
   "source": [
    "#被点击电影的相关信息"
   ]
  },
  {
   "cell_type": "code",
   "execution_count": 67,
   "id": "4922f12a",
   "metadata": {
    "hidden": true
   },
   "outputs": [
    {
     "name": "stderr",
     "output_type": "stream",
     "text": [
      "[Stage 170:================================================================================================================>                 (13 + 2) / 15]"
     ]
    },
    {
     "name": "stdout",
     "output_type": "stream",
     "text": [
      "+---------+---------------+--------------------+--------------+-----+-------+---------+----------------------+----------+--------------+------------+---------------+------+-------+---------+-----------+---------+--------+---------------+------------+-------+--------+-------------------------------+--------+------------+------------+--------+-----------+-------------------+--------------+--------+--------+----+--------------+----------+\n",
      "|     dnum|     devicetype|          appversion|appversioncode|tabid|tabname|columnsid|           columnsname|resourceid|resourcelayout|resourcename|            vid| title|paymode|mediatype|bucket_cate|algo_type|block_id|columnsposition|recommend_id|test_id|group_id|                recommend_scene|position|resourcecate|resourcetype|business|subbusiness|          clicktime|      trace_id|tabindex|province|city|column_sorting| data_date|\n",
      "+---------+---------------+--------------------+--------------+-----+-------+---------+----------------------+----------+--------------+------------+---------------+------+-------+---------+-----------+---------+--------+---------------+------------+-------+--------+-------------------------------+--------+------------+------------+--------+-----------+-------------------+--------------+--------+--------+----+--------------+----------+\n",
      "|588578436|TCL-CN-T982-S11|7.5.16.8984.f5f97...|          7516|94020|   推荐|    45028|电影：10000+大片随心看|       101|   {30,0,35,7}|      满江红|mzc00200bd3gkta|满江红|    5.0|     电影|  autoIntV3|ManualHot|  765024|              6|          45|   null|    null|精选栏目-电影：10000 大片随心看|       -|        媒资|    推荐算法|     vod|        vod|2023-08-06 20:26:49|11201641631155|       5|    湖南|怀化|          null|2023-08-06|\n",
      "+---------+---------------+--------------------+--------------+-----+-------+---------+----------------------+----------+--------------+------------+---------------+------+-------+---------+-----------+---------+--------+---------------+------------+-------+--------+-------------------------------+--------+------------+------------+--------+-----------+-------------------+--------------+--------+--------+----+--------------+----------+\n",
      "\n"
     ]
    },
    {
     "name": "stderr",
     "output_type": "stream",
     "text": [
      "                                                                                                                                                           \r"
     ]
    }
   ],
   "source": [
    "click_df[click_df.title=='满江红'].show()"
   ]
  },
  {
   "cell_type": "markdown",
   "id": "30407a28",
   "metadata": {
    "heading_collapsed": true
   },
   "source": [
    "#表中有数据，则使用下面这种方法展示曝光和点击数据"
   ]
  },
  {
   "cell_type": "code",
   "execution_count": 15,
   "id": "940c9087",
   "metadata": {
    "hidden": true
   },
   "outputs": [
    {
     "name": "stdout",
     "output_type": "stream",
     "text": [
      "2023-08-06\n",
      "2023-08-05\n",
      "2023-08-04\n",
      "2023-08-03\n",
      "2023-08-02\n",
      "2023-08-05\n",
      "2023-08-04\n",
      "2023-08-03\n",
      "2023-08-02\n"
     ]
    }
   ],
   "source": [
    "# expose_df = []\n",
    "# click_df = []\n",
    "# for i in range(1,6):\n",
    "#     try:\n",
    "#         data_date = (datetime.datetime.today()- datetime.timedelta(i)).strftime(\"%Y-%m-%d\")\n",
    "#         print(data_date)\n",
    "#         click = pd.read_parquet(f\"/data/gangyanyuan/data_rr/ln_user_click_movie10000/data_date={data_date}\")\n",
    "#         click['date'] = data_date\n",
    "#         click_df.append(click)\n",
    "#     except Exception as e:\n",
    "#         pass\n",
    "\n",
    "# click_df = pd.concat(click_df)\n",
    "\n",
    "\n",
    "# for i in range(1,6):\n",
    "#     try:\n",
    "#         data_date = (datetime.datetime.today()- datetime.timedelta(i)).strftime(\"%Y-%m-%d\")\n",
    "#         print(data_date)\n",
    "#         expose = pd.read_parquet(f\"/data/gangyanyuan/data_rr/ln_user_expose_movie10000/data_date={data_date}\")\n",
    "#         expose['date'] = data_date\n",
    "#         expose_df.append(expose)\n",
    "     \n",
    "#     except Exception as e:\n",
    "#         pass\n",
    "# expose_df = pd.concat(expose_df)"
   ]
  },
  {
   "cell_type": "code",
   "execution_count": 12,
   "id": "cbb93c75",
   "metadata": {
    "hidden": true
   },
   "outputs": [
    {
     "ename": "NameError",
     "evalue": "name 'expose_df' is not defined",
     "output_type": "error",
     "traceback": [
      "\u001b[0;31m---------------------------------------------------------------------------\u001b[0m",
      "\u001b[0;31mNameError\u001b[0m                                 Traceback (most recent call last)",
      "\u001b[0;32m/tmp/ipykernel_10694/696481229.py\u001b[0m in \u001b[0;36m<module>\u001b[0;34m\u001b[0m\n\u001b[0;32m----> 1\u001b[0;31m \u001b[0mexpose_df\u001b[0m\u001b[0;34m[\u001b[0m\u001b[0mexpose_df\u001b[0m\u001b[0;34m.\u001b[0m\u001b[0mdnum\u001b[0m\u001b[0;34m==\u001b[0m\u001b[0;34m'532875566'\u001b[0m\u001b[0;34m]\u001b[0m\u001b[0;34m.\u001b[0m\u001b[0mgroupby\u001b[0m\u001b[0;34m(\u001b[0m\u001b[0;34m[\u001b[0m\u001b[0;34m'date'\u001b[0m\u001b[0;34m,\u001b[0m\u001b[0;34m'dnum'\u001b[0m\u001b[0;34m,\u001b[0m\u001b[0;34m'resourcelayout'\u001b[0m\u001b[0;34m,\u001b[0m\u001b[0;34m'algo_type'\u001b[0m\u001b[0;34m]\u001b[0m\u001b[0;34m)\u001b[0m\u001b[0;34m.\u001b[0m\u001b[0magg\u001b[0m\u001b[0;34m(\u001b[0m\u001b[0;34m{\u001b[0m\u001b[0;34m\"title\"\u001b[0m\u001b[0;34m:\u001b[0m\u001b[0;34m\"unique\"\u001b[0m\u001b[0;34m}\u001b[0m\u001b[0;34m)\u001b[0m\u001b[0;34m\u001b[0m\u001b[0;34m\u001b[0m\u001b[0m\n\u001b[0m",
      "\u001b[0;31mNameError\u001b[0m: name 'expose_df' is not defined"
     ]
    }
   ],
   "source": [
    "expose_df[expose_df.dnum=='532875566'].groupby(['date','dnum','resourcelayout','algo_type']).agg({\"title\":\"unique\"})"
   ]
  },
  {
   "cell_type": "code",
   "execution_count": 13,
   "id": "8378ae52",
   "metadata": {
    "hidden": true
   },
   "outputs": [
    {
     "ename": "AnalysisException",
     "evalue": "\"Undefined function: 'unique'. This function is neither a registered temporary function nor a permanent function registered in the database 'default'.;\"",
     "output_type": "error",
     "traceback": [
      "\u001b[0;31m---------------------------------------------------------------------------\u001b[0m",
      "\u001b[0;31mPy4JJavaError\u001b[0m                             Traceback (most recent call last)",
      "\u001b[0;32m/usr/lib/spark-current/python/pyspark/sql/utils.py\u001b[0m in \u001b[0;36mdeco\u001b[0;34m(*a, **kw)\u001b[0m\n\u001b[1;32m     66\u001b[0m         \u001b[0;32mtry\u001b[0m\u001b[0;34m:\u001b[0m\u001b[0;34m\u001b[0m\u001b[0;34m\u001b[0m\u001b[0m\n\u001b[0;32m---> 67\u001b[0;31m             \u001b[0;32mreturn\u001b[0m \u001b[0mf\u001b[0m\u001b[0;34m(\u001b[0m\u001b[0;34m*\u001b[0m\u001b[0ma\u001b[0m\u001b[0;34m,\u001b[0m \u001b[0;34m**\u001b[0m\u001b[0mkw\u001b[0m\u001b[0;34m)\u001b[0m\u001b[0;34m\u001b[0m\u001b[0;34m\u001b[0m\u001b[0m\n\u001b[0m\u001b[1;32m     68\u001b[0m         \u001b[0;32mexcept\u001b[0m \u001b[0mpy4j\u001b[0m\u001b[0;34m.\u001b[0m\u001b[0mprotocol\u001b[0m\u001b[0;34m.\u001b[0m\u001b[0mPy4JJavaError\u001b[0m \u001b[0;32mas\u001b[0m \u001b[0me\u001b[0m\u001b[0;34m:\u001b[0m\u001b[0;34m\u001b[0m\u001b[0;34m\u001b[0m\u001b[0m\n",
      "\u001b[0;32m/usr/lib/spark-current/python/lib/py4j-0.10.7-src.zip/py4j/protocol.py\u001b[0m in \u001b[0;36mget_return_value\u001b[0;34m(answer, gateway_client, target_id, name)\u001b[0m\n\u001b[1;32m    327\u001b[0m                     \u001b[0;34m\"An error occurred while calling {0}{1}{2}.\\n\"\u001b[0m\u001b[0;34m.\u001b[0m\u001b[0;34m\u001b[0m\u001b[0;34m\u001b[0m\u001b[0m\n\u001b[0;32m--> 328\u001b[0;31m                     format(target_id, \".\", name), value)\n\u001b[0m\u001b[1;32m    329\u001b[0m             \u001b[0;32melse\u001b[0m\u001b[0;34m:\u001b[0m\u001b[0;34m\u001b[0m\u001b[0;34m\u001b[0m\u001b[0m\n",
      "\u001b[0;31mPy4JJavaError\u001b[0m: An error occurred while calling o204.agg.\n: org.apache.spark.sql.AnalysisException: Undefined function: 'unique'. This function is neither a registered temporary function nor a permanent function registered in the database 'default'.;\n\tat org.apache.spark.sql.catalyst.analysis.Analyzer$LookupFunctions$$anonfun$apply$15$$anonfun$applyOrElse$52.apply(Analyzer.scala:1396)\n\tat org.apache.spark.sql.catalyst.analysis.Analyzer$LookupFunctions$$anonfun$apply$15$$anonfun$applyOrElse$52.apply(Analyzer.scala:1396)\n\tat org.apache.spark.sql.catalyst.analysis.package$.withPosition(package.scala:53)\n\tat org.apache.spark.sql.catalyst.analysis.Analyzer$LookupFunctions$$anonfun$apply$15.applyOrElse(Analyzer.scala:1395)\n\tat org.apache.spark.sql.catalyst.analysis.Analyzer$LookupFunctions$$anonfun$apply$15.applyOrElse(Analyzer.scala:1387)\n\tat org.apache.spark.sql.catalyst.trees.TreeNode$$anonfun$2.apply(TreeNode.scala:258)\n\tat org.apache.spark.sql.catalyst.trees.TreeNode$$anonfun$2.apply(TreeNode.scala:258)\n\tat org.apache.spark.sql.catalyst.trees.CurrentOrigin$.withOrigin(TreeNode.scala:69)\n\tat org.apache.spark.sql.catalyst.trees.TreeNode.transformDown(TreeNode.scala:257)\n\tat org.apache.spark.sql.catalyst.trees.TreeNode$$anonfun$transformDown$1.apply(TreeNode.scala:263)\n\tat org.apache.spark.sql.catalyst.trees.TreeNode$$anonfun$transformDown$1.apply(TreeNode.scala:263)\n\tat org.apache.spark.sql.catalyst.trees.TreeNode$$anonfun$4.apply(TreeNode.scala:328)\n\tat org.apache.spark.sql.catalyst.trees.TreeNode.mapProductIterator(TreeNode.scala:186)\n\tat org.apache.spark.sql.catalyst.trees.TreeNode.mapChildren(TreeNode.scala:326)\n\tat org.apache.spark.sql.catalyst.trees.TreeNode.transformDown(TreeNode.scala:263)\n\tat org.apache.spark.sql.catalyst.plans.QueryPlan$$anonfun$transformExpressionsDown$1.apply(QueryPlan.scala:83)\n\tat org.apache.spark.sql.catalyst.plans.QueryPlan$$anonfun$transformExpressionsDown$1.apply(QueryPlan.scala:83)\n\tat org.apache.spark.sql.catalyst.plans.QueryPlan$$anonfun$1.apply(QueryPlan.scala:105)\n\tat org.apache.spark.sql.catalyst.plans.QueryPlan$$anonfun$1.apply(QueryPlan.scala:105)\n\tat org.apache.spark.sql.catalyst.trees.CurrentOrigin$.withOrigin(TreeNode.scala:69)\n\tat org.apache.spark.sql.catalyst.plans.QueryPlan.transformExpression$1(QueryPlan.scala:104)\n\tat org.apache.spark.sql.catalyst.plans.QueryPlan.org$apache$spark$sql$catalyst$plans$QueryPlan$$recursiveTransform$1(QueryPlan.scala:116)\n\tat org.apache.spark.sql.catalyst.plans.QueryPlan$$anonfun$org$apache$spark$sql$catalyst$plans$QueryPlan$$recursiveTransform$1$2.apply(QueryPlan.scala:121)\n\tat scala.collection.TraversableLike$$anonfun$map$1.apply(TraversableLike.scala:234)\n\tat scala.collection.TraversableLike$$anonfun$map$1.apply(TraversableLike.scala:234)\n\tat scala.collection.mutable.ResizableArray$class.foreach(ResizableArray.scala:59)\n\tat scala.collection.mutable.ArrayBuffer.foreach(ArrayBuffer.scala:48)\n\tat scala.collection.TraversableLike$class.map(TraversableLike.scala:234)\n\tat scala.collection.AbstractTraversable.map(Traversable.scala:104)\n\tat org.apache.spark.sql.catalyst.plans.QueryPlan.org$apache$spark$sql$catalyst$plans$QueryPlan$$recursiveTransform$1(QueryPlan.scala:121)\n\tat org.apache.spark.sql.catalyst.plans.QueryPlan$$anonfun$2.apply(QueryPlan.scala:126)\n\tat org.apache.spark.sql.catalyst.trees.TreeNode.mapProductIterator(TreeNode.scala:186)\n\tat org.apache.spark.sql.catalyst.plans.QueryPlan.mapExpressions(QueryPlan.scala:126)\n\tat org.apache.spark.sql.catalyst.plans.QueryPlan.transformExpressionsDown(QueryPlan.scala:83)\n\tat org.apache.spark.sql.catalyst.plans.QueryPlan.transformExpressions(QueryPlan.scala:74)\n\tat org.apache.spark.sql.catalyst.plans.logical.AnalysisHelper$$anonfun$resolveExpressions$1.applyOrElse(AnalysisHelper.scala:129)\n\tat org.apache.spark.sql.catalyst.plans.logical.AnalysisHelper$$anonfun$resolveExpressions$1.applyOrElse(AnalysisHelper.scala:128)\n\tat org.apache.spark.sql.catalyst.plans.logical.AnalysisHelper$$anonfun$resolveOperatorsDown$1$$anonfun$2.apply(AnalysisHelper.scala:108)\n\tat org.apache.spark.sql.catalyst.plans.logical.AnalysisHelper$$anonfun$resolveOperatorsDown$1$$anonfun$2.apply(AnalysisHelper.scala:108)\n\tat org.apache.spark.sql.catalyst.trees.CurrentOrigin$.withOrigin(TreeNode.scala:69)\n\tat org.apache.spark.sql.catalyst.plans.logical.AnalysisHelper$$anonfun$resolveOperatorsDown$1.apply(AnalysisHelper.scala:107)\n\tat org.apache.spark.sql.catalyst.plans.logical.AnalysisHelper$$anonfun$resolveOperatorsDown$1.apply(AnalysisHelper.scala:106)\n\tat org.apache.spark.sql.catalyst.plans.logical.AnalysisHelper$.allowInvokingTransformsInAnalyzer(AnalysisHelper.scala:194)\n\tat org.apache.spark.sql.catalyst.plans.logical.AnalysisHelper$class.resolveOperatorsDown(AnalysisHelper.scala:106)\n\tat org.apache.spark.sql.catalyst.plans.logical.LogicalPlan.resolveOperatorsDown(LogicalPlan.scala:29)\n\tat org.apache.spark.sql.catalyst.plans.logical.AnalysisHelper$class.resolveOperators(AnalysisHelper.scala:73)\n\tat org.apache.spark.sql.catalyst.plans.logical.LogicalPlan.resolveOperators(LogicalPlan.scala:29)\n\tat org.apache.spark.sql.catalyst.plans.logical.AnalysisHelper$class.resolveExpressions(AnalysisHelper.scala:128)\n\tat org.apache.spark.sql.catalyst.plans.logical.LogicalPlan.resolveExpressions(LogicalPlan.scala:29)\n\tat org.apache.spark.sql.catalyst.analysis.Analyzer$LookupFunctions$.apply(Analyzer.scala:1387)\n\tat org.apache.spark.sql.catalyst.analysis.Analyzer$LookupFunctions$.apply(Analyzer.scala:1384)\n\tat org.apache.spark.sql.catalyst.rules.RuleExecutor$$anonfun$execute$1$$anonfun$apply$1.apply(RuleExecutor.scala:87)\n\tat org.apache.spark.sql.catalyst.rules.RuleExecutor$$anonfun$execute$1$$anonfun$apply$1.apply(RuleExecutor.scala:84)\n\tat scala.collection.IndexedSeqOptimized$class.foldl(IndexedSeqOptimized.scala:57)\n\tat scala.collection.IndexedSeqOptimized$class.foldLeft(IndexedSeqOptimized.scala:66)\n\tat scala.collection.mutable.WrappedArray.foldLeft(WrappedArray.scala:35)\n\tat org.apache.spark.sql.catalyst.rules.RuleExecutor$$anonfun$execute$1.apply(RuleExecutor.scala:84)\n\tat org.apache.spark.sql.catalyst.rules.RuleExecutor$$anonfun$execute$1.apply(RuleExecutor.scala:76)\n\tat scala.collection.immutable.List.foreach(List.scala:392)\n\tat org.apache.spark.sql.catalyst.rules.RuleExecutor.execute(RuleExecutor.scala:76)\n\tat org.apache.spark.sql.catalyst.analysis.Analyzer.org$apache$spark$sql$catalyst$analysis$Analyzer$$executeSameContext(Analyzer.scala:128)\n\tat org.apache.spark.sql.catalyst.analysis.Analyzer.execute(Analyzer.scala:122)\n\tat org.apache.spark.sql.catalyst.analysis.Analyzer$$anonfun$executeAndCheck$1.apply(Analyzer.scala:107)\n\tat org.apache.spark.sql.catalyst.analysis.Analyzer$$anonfun$executeAndCheck$1.apply(Analyzer.scala:106)\n\tat org.apache.spark.sql.catalyst.plans.logical.AnalysisHelper$.markInAnalyzer(AnalysisHelper.scala:201)\n\tat org.apache.spark.sql.catalyst.analysis.Analyzer.executeAndCheck(Analyzer.scala:106)\n\tat org.apache.spark.sql.execution.QueryExecution.analyzed$lzycompute(QueryExecution.scala:59)\n\tat org.apache.spark.sql.execution.QueryExecution.analyzed(QueryExecution.scala:57)\n\tat org.apache.spark.sql.execution.QueryExecution.assertAnalyzed(QueryExecution.scala:49)\n\tat org.apache.spark.sql.Dataset$.ofRows(Dataset.scala:79)\n\tat org.apache.spark.sql.RelationalGroupedDataset.toDF(RelationalGroupedDataset.scala:65)\n\tat org.apache.spark.sql.RelationalGroupedDataset.agg(RelationalGroupedDataset.scala:169)\n\tat org.apache.spark.sql.RelationalGroupedDataset.agg(RelationalGroupedDataset.scala:188)\n\tat sun.reflect.NativeMethodAccessorImpl.invoke0(Native Method)\n\tat sun.reflect.NativeMethodAccessorImpl.invoke(NativeMethodAccessorImpl.java:62)\n\tat sun.reflect.DelegatingMethodAccessorImpl.invoke(DelegatingMethodAccessorImpl.java:43)\n\tat java.lang.reflect.Method.invoke(Method.java:498)\n\tat py4j.reflection.MethodInvoker.invoke(MethodInvoker.java:244)\n\tat py4j.reflection.ReflectionEngine.invoke(ReflectionEngine.java:357)\n\tat py4j.Gateway.invoke(Gateway.java:282)\n\tat py4j.commands.AbstractCommand.invokeMethod(AbstractCommand.java:132)\n\tat py4j.commands.CallCommand.execute(CallCommand.java:79)\n\tat py4j.GatewayConnection.run(GatewayConnection.java:238)\n\tat java.lang.Thread.run(Thread.java:748)\n",
      "\nDuring handling of the above exception, another exception occurred:\n",
      "\u001b[0;31mAnalysisException\u001b[0m                         Traceback (most recent call last)",
      "\u001b[0;32m/tmp/ipykernel_10694/35312443.py\u001b[0m in \u001b[0;36m<module>\u001b[0;34m\u001b[0m\n\u001b[0;32m----> 1\u001b[0;31m \u001b[0mclick_df\u001b[0m\u001b[0;34m[\u001b[0m\u001b[0mclick_df\u001b[0m\u001b[0;34m.\u001b[0m\u001b[0mdnum\u001b[0m\u001b[0;34m==\u001b[0m\u001b[0;34m'532875566'\u001b[0m\u001b[0;34m]\u001b[0m\u001b[0;34m.\u001b[0m\u001b[0mgroupby\u001b[0m\u001b[0;34m(\u001b[0m\u001b[0;34m[\u001b[0m\u001b[0;34m'date'\u001b[0m\u001b[0;34m,\u001b[0m\u001b[0;34m'dnum'\u001b[0m\u001b[0;34m,\u001b[0m\u001b[0;34m'resourcelayout'\u001b[0m\u001b[0;34m,\u001b[0m\u001b[0;34m'algo_type'\u001b[0m\u001b[0;34m]\u001b[0m\u001b[0;34m)\u001b[0m\u001b[0;34m.\u001b[0m\u001b[0magg\u001b[0m\u001b[0;34m(\u001b[0m\u001b[0;34m{\u001b[0m\u001b[0;34m\"title\"\u001b[0m\u001b[0;34m:\u001b[0m\u001b[0;34m\"unique\"\u001b[0m\u001b[0;34m}\u001b[0m\u001b[0;34m)\u001b[0m\u001b[0;34m\u001b[0m\u001b[0;34m\u001b[0m\u001b[0m\n\u001b[0m",
      "\u001b[0;32m/usr/lib/spark-current/python/pyspark/sql/group.py\u001b[0m in \u001b[0;36magg\u001b[0;34m(self, *exprs)\u001b[0m\n\u001b[1;32m    108\u001b[0m         \u001b[0;32massert\u001b[0m \u001b[0mexprs\u001b[0m\u001b[0;34m,\u001b[0m \u001b[0;34m\"exprs should not be empty\"\u001b[0m\u001b[0;34m\u001b[0m\u001b[0;34m\u001b[0m\u001b[0m\n\u001b[1;32m    109\u001b[0m         \u001b[0;32mif\u001b[0m \u001b[0mlen\u001b[0m\u001b[0;34m(\u001b[0m\u001b[0mexprs\u001b[0m\u001b[0;34m)\u001b[0m \u001b[0;34m==\u001b[0m \u001b[0;36m1\u001b[0m \u001b[0;32mand\u001b[0m \u001b[0misinstance\u001b[0m\u001b[0;34m(\u001b[0m\u001b[0mexprs\u001b[0m\u001b[0;34m[\u001b[0m\u001b[0;36m0\u001b[0m\u001b[0;34m]\u001b[0m\u001b[0;34m,\u001b[0m \u001b[0mdict\u001b[0m\u001b[0;34m)\u001b[0m\u001b[0;34m:\u001b[0m\u001b[0;34m\u001b[0m\u001b[0;34m\u001b[0m\u001b[0m\n\u001b[0;32m--> 110\u001b[0;31m             \u001b[0mjdf\u001b[0m \u001b[0;34m=\u001b[0m \u001b[0mself\u001b[0m\u001b[0;34m.\u001b[0m\u001b[0m_jgd\u001b[0m\u001b[0;34m.\u001b[0m\u001b[0magg\u001b[0m\u001b[0;34m(\u001b[0m\u001b[0mexprs\u001b[0m\u001b[0;34m[\u001b[0m\u001b[0;36m0\u001b[0m\u001b[0;34m]\u001b[0m\u001b[0;34m)\u001b[0m\u001b[0;34m\u001b[0m\u001b[0;34m\u001b[0m\u001b[0m\n\u001b[0m\u001b[1;32m    111\u001b[0m         \u001b[0;32melse\u001b[0m\u001b[0;34m:\u001b[0m\u001b[0;34m\u001b[0m\u001b[0;34m\u001b[0m\u001b[0m\n\u001b[1;32m    112\u001b[0m             \u001b[0;31m# Columns\u001b[0m\u001b[0;34m\u001b[0m\u001b[0;34m\u001b[0m\u001b[0;34m\u001b[0m\u001b[0m\n",
      "\u001b[0;32m/usr/lib/spark-current/python/lib/py4j-0.10.7-src.zip/py4j/java_gateway.py\u001b[0m in \u001b[0;36m__call__\u001b[0;34m(self, *args)\u001b[0m\n\u001b[1;32m   1255\u001b[0m         \u001b[0manswer\u001b[0m \u001b[0;34m=\u001b[0m \u001b[0mself\u001b[0m\u001b[0;34m.\u001b[0m\u001b[0mgateway_client\u001b[0m\u001b[0;34m.\u001b[0m\u001b[0msend_command\u001b[0m\u001b[0;34m(\u001b[0m\u001b[0mcommand\u001b[0m\u001b[0;34m)\u001b[0m\u001b[0;34m\u001b[0m\u001b[0;34m\u001b[0m\u001b[0m\n\u001b[1;32m   1256\u001b[0m         return_value = get_return_value(\n\u001b[0;32m-> 1257\u001b[0;31m             answer, self.gateway_client, self.target_id, self.name)\n\u001b[0m\u001b[1;32m   1258\u001b[0m \u001b[0;34m\u001b[0m\u001b[0m\n\u001b[1;32m   1259\u001b[0m         \u001b[0;32mfor\u001b[0m \u001b[0mtemp_arg\u001b[0m \u001b[0;32min\u001b[0m \u001b[0mtemp_args\u001b[0m\u001b[0;34m:\u001b[0m\u001b[0;34m\u001b[0m\u001b[0;34m\u001b[0m\u001b[0m\n",
      "\u001b[0;32m/usr/lib/spark-current/python/pyspark/sql/utils.py\u001b[0m in \u001b[0;36mdeco\u001b[0;34m(*a, **kw)\u001b[0m\n\u001b[1;32m     71\u001b[0m                                              e.java_exception.getStackTrace()))\n\u001b[1;32m     72\u001b[0m             \u001b[0;32mif\u001b[0m \u001b[0ms\u001b[0m\u001b[0;34m.\u001b[0m\u001b[0mstartswith\u001b[0m\u001b[0;34m(\u001b[0m\u001b[0;34m'org.apache.spark.sql.AnalysisException: '\u001b[0m\u001b[0;34m)\u001b[0m\u001b[0;34m:\u001b[0m\u001b[0;34m\u001b[0m\u001b[0;34m\u001b[0m\u001b[0m\n\u001b[0;32m---> 73\u001b[0;31m                 \u001b[0;32mraise\u001b[0m \u001b[0mAnalysisException\u001b[0m\u001b[0;34m(\u001b[0m\u001b[0ms\u001b[0m\u001b[0;34m.\u001b[0m\u001b[0msplit\u001b[0m\u001b[0;34m(\u001b[0m\u001b[0;34m': '\u001b[0m\u001b[0;34m,\u001b[0m \u001b[0;36m1\u001b[0m\u001b[0;34m)\u001b[0m\u001b[0;34m[\u001b[0m\u001b[0;36m1\u001b[0m\u001b[0;34m]\u001b[0m\u001b[0;34m,\u001b[0m \u001b[0mstackTrace\u001b[0m\u001b[0;34m)\u001b[0m\u001b[0;34m\u001b[0m\u001b[0;34m\u001b[0m\u001b[0m\n\u001b[0m\u001b[1;32m     74\u001b[0m             \u001b[0;32mif\u001b[0m \u001b[0ms\u001b[0m\u001b[0;34m.\u001b[0m\u001b[0mstartswith\u001b[0m\u001b[0;34m(\u001b[0m\u001b[0;34m'org.apache.spark.sql.catalyst.analysis'\u001b[0m\u001b[0;34m)\u001b[0m\u001b[0;34m:\u001b[0m\u001b[0;34m\u001b[0m\u001b[0;34m\u001b[0m\u001b[0m\n\u001b[1;32m     75\u001b[0m                 \u001b[0;32mraise\u001b[0m \u001b[0mAnalysisException\u001b[0m\u001b[0;34m(\u001b[0m\u001b[0ms\u001b[0m\u001b[0;34m.\u001b[0m\u001b[0msplit\u001b[0m\u001b[0;34m(\u001b[0m\u001b[0;34m': '\u001b[0m\u001b[0;34m,\u001b[0m \u001b[0;36m1\u001b[0m\u001b[0;34m)\u001b[0m\u001b[0;34m[\u001b[0m\u001b[0;36m1\u001b[0m\u001b[0;34m]\u001b[0m\u001b[0;34m,\u001b[0m \u001b[0mstackTrace\u001b[0m\u001b[0;34m)\u001b[0m\u001b[0;34m\u001b[0m\u001b[0;34m\u001b[0m\u001b[0m\n",
      "\u001b[0;31mAnalysisException\u001b[0m: \"Undefined function: 'unique'. This function is neither a registered temporary function nor a permanent function registered in the database 'default'.;\""
     ]
    }
   ],
   "source": [
    "click_df[click_df.dnum=='532875566'].groupby(['date','dnum','resourcelayout','algo_type']).agg({\"title\":\"unique\"})"
   ]
  },
  {
   "cell_type": "code",
   "execution_count": 131,
   "id": "23ebd6d2",
   "metadata": {
    "hidden": true
   },
   "outputs": [
    {
     "data": {
      "text/html": [
       "<div>\n",
       "<style scoped>\n",
       "    .dataframe tbody tr th:only-of-type {\n",
       "        vertical-align: middle;\n",
       "    }\n",
       "\n",
       "    .dataframe tbody tr th {\n",
       "        vertical-align: top;\n",
       "    }\n",
       "\n",
       "    .dataframe thead th {\n",
       "        text-align: right;\n",
       "    }\n",
       "</style>\n",
       "<table border=\"1\" class=\"dataframe\">\n",
       "  <thead>\n",
       "    <tr style=\"text-align: right;\">\n",
       "      <th></th>\n",
       "      <th></th>\n",
       "      <th></th>\n",
       "      <th></th>\n",
       "      <th>title</th>\n",
       "    </tr>\n",
       "    <tr>\n",
       "      <th>date</th>\n",
       "      <th>dnum</th>\n",
       "      <th>resourcelayout</th>\n",
       "      <th>algo_type</th>\n",
       "      <th></th>\n",
       "    </tr>\n",
       "  </thead>\n",
       "  <tbody>\n",
       "    <tr>\n",
       "      <th rowspan=\"9\" valign=\"top\">2023-08-02</th>\n",
       "      <th rowspan=\"9\" valign=\"top\">587747636</th>\n",
       "      <th>{0,8,5,15}</th>\n",
       "      <th>ClickHot</th>\n",
       "      <td>[狙击手]</td>\n",
       "    </tr>\n",
       "    <tr>\n",
       "      <th>{12,0,17,7}</th>\n",
       "      <th>ManualHot</th>\n",
       "      <td>[检察风云]</td>\n",
       "    </tr>\n",
       "    <tr>\n",
       "      <th>{12,8,17,15}</th>\n",
       "      <th>ClickHot</th>\n",
       "      <td>[扫黑行动]</td>\n",
       "    </tr>\n",
       "    <tr>\n",
       "      <th>{18,0,23,7}</th>\n",
       "      <th>HistSim</th>\n",
       "      <td>[东北合伙人]</td>\n",
       "    </tr>\n",
       "    <tr>\n",
       "      <th>{18,8,23,15}</th>\n",
       "      <th>HistSim</th>\n",
       "      <td>[李茂扮太子]</td>\n",
       "    </tr>\n",
       "    <tr>\n",
       "      <th>{24,0,29,7}</th>\n",
       "      <th>ManualHot</th>\n",
       "      <td>[阿凡达：水之道]</td>\n",
       "    </tr>\n",
       "    <tr>\n",
       "      <th>{24,8,29,15}</th>\n",
       "      <th>ClickHot</th>\n",
       "      <td>[东北虎]</td>\n",
       "    </tr>\n",
       "    <tr>\n",
       "      <th>{30,0,35,7}</th>\n",
       "      <th>HistSim</th>\n",
       "      <td>[东北告别天团]</td>\n",
       "    </tr>\n",
       "    <tr>\n",
       "      <th>{6,8,11,15}</th>\n",
       "      <th>HistSim</th>\n",
       "      <td>[天才不能承受之重]</td>\n",
       "    </tr>\n",
       "  </tbody>\n",
       "</table>\n",
       "</div>"
      ],
      "text/plain": [
       "                                                    title\n",
       "date       dnum      resourcelayout algo_type            \n",
       "2023-08-02 587747636 {0,8,5,15}     ClickHot        [狙击手]\n",
       "                     {12,0,17,7}    ManualHot      [检察风云]\n",
       "                     {12,8,17,15}   ClickHot       [扫黑行动]\n",
       "                     {18,0,23,7}    HistSim       [东北合伙人]\n",
       "                     {18,8,23,15}   HistSim       [李茂扮太子]\n",
       "                     {24,0,29,7}    ManualHot   [阿凡达：水之道]\n",
       "                     {24,8,29,15}   ClickHot        [东北虎]\n",
       "                     {30,0,35,7}    HistSim      [东北告别天团]\n",
       "                     {6,8,11,15}    HistSim    [天才不能承受之重]"
      ]
     },
     "execution_count": 131,
     "metadata": {},
     "output_type": "execute_result"
    }
   ],
   "source": [
    "expose_df[expose_df.dnum=='587747636'].groupby(['date','dnum','resourcelayout','algo_type']).agg({\"title\":\"unique\"})"
   ]
  },
  {
   "cell_type": "code",
   "execution_count": 142,
   "id": "8d1ff886",
   "metadata": {
    "hidden": true
   },
   "outputs": [
    {
     "data": {
      "text/html": [
       "<div>\n",
       "<style scoped>\n",
       "    .dataframe tbody tr th:only-of-type {\n",
       "        vertical-align: middle;\n",
       "    }\n",
       "\n",
       "    .dataframe tbody tr th {\n",
       "        vertical-align: top;\n",
       "    }\n",
       "\n",
       "    .dataframe thead th {\n",
       "        text-align: right;\n",
       "    }\n",
       "</style>\n",
       "<table border=\"1\" class=\"dataframe\">\n",
       "  <thead>\n",
       "    <tr style=\"text-align: right;\">\n",
       "      <th></th>\n",
       "      <th></th>\n",
       "      <th></th>\n",
       "      <th></th>\n",
       "      <th>title</th>\n",
       "    </tr>\n",
       "    <tr>\n",
       "      <th>date</th>\n",
       "      <th>dnum</th>\n",
       "      <th>resourcelayout</th>\n",
       "      <th>algo_type</th>\n",
       "      <th></th>\n",
       "    </tr>\n",
       "  </thead>\n",
       "  <tbody>\n",
       "    <tr>\n",
       "      <th>2023-08-02</th>\n",
       "      <th>587747636</th>\n",
       "      <th>{24,0,29,7}</th>\n",
       "      <th>ManualHot</th>\n",
       "      <td>[阿凡达：水之道]</td>\n",
       "    </tr>\n",
       "  </tbody>\n",
       "</table>\n",
       "</div>"
      ],
      "text/plain": [
       "                                                   title\n",
       "date       dnum      resourcelayout algo_type           \n",
       "2023-08-02 587747636 {24,0,29,7}    ManualHot  [阿凡达：水之道]"
      ]
     },
     "execution_count": 142,
     "metadata": {},
     "output_type": "execute_result"
    }
   ],
   "source": [
    "click_df[click_df.dnum=='587747636'].groupby(['date','dnum','resourcelayout','algo_type']).agg({\"title\":\"unique\"})"
   ]
  },
  {
   "cell_type": "markdown",
   "id": "c0c25bf5",
   "metadata": {},
   "source": [
    "#用户连续两天有点击，第三天付费"
   ]
  },
  {
   "cell_type": "code",
   "execution_count": 37,
   "id": "bb8a89df",
   "metadata": {},
   "outputs": [],
   "source": [
    "user_play = pd.read_parquet(\"/data/gangyanyuan/data/user_latest_play_movie10000_plus_30days/year=2023/month=8/day=9/bucket=6/second_bucket=6\")"
   ]
  },
  {
   "cell_type": "code",
   "execution_count": 38,
   "id": "444e2c62",
   "metadata": {},
   "outputs": [
    {
     "data": {
      "text/html": [
       "<div>\n",
       "<style scoped>\n",
       "    .dataframe tbody tr th:only-of-type {\n",
       "        vertical-align: middle;\n",
       "    }\n",
       "\n",
       "    .dataframe tbody tr th {\n",
       "        vertical-align: top;\n",
       "    }\n",
       "\n",
       "    .dataframe thead th {\n",
       "        text-align: right;\n",
       "    }\n",
       "</style>\n",
       "<table border=\"1\" class=\"dataframe\">\n",
       "  <thead>\n",
       "    <tr style=\"text-align: right;\">\n",
       "      <th></th>\n",
       "      <th>dnum</th>\n",
       "      <th>all_play_item</th>\n",
       "      <th>all_types_list</th>\n",
       "      <th>all_play_action_date</th>\n",
       "      <th>all_play_diff_date</th>\n",
       "      <th>all_played_duration</th>\n",
       "      <th>all_types_list_1</th>\n",
       "      <th>all_types_list_2</th>\n",
       "    </tr>\n",
       "  </thead>\n",
       "  <tbody>\n",
       "    <tr>\n",
       "      <th>19814</th>\n",
       "      <td>516672266</td>\n",
       "      <td>[76n6vdky9nfocyg, PAD, PAD, PAD, PAD, PAD, PAD...</td>\n",
       "      <td>[[冒险, 科幻], [PAD, PAD], [PAD, PAD], [PAD, PAD],...</td>\n",
       "      <td>[2023-08-09, PAD, PAD, PAD, PAD, PAD, PAD, PAD...</td>\n",
       "      <td>[0, PAD, PAD, PAD, PAD, PAD, PAD, PAD, PAD, PA...</td>\n",
       "      <td>[360, PAD, PAD, PAD, PAD, PAD, PAD, PAD, PAD, ...</td>\n",
       "      <td>[冒险, PAD, PAD, PAD, PAD, PAD, PAD, PAD, PAD, P...</td>\n",
       "      <td>[科幻, PAD, PAD, PAD, PAD, PAD, PAD, PAD, PAD, P...</td>\n",
       "    </tr>\n",
       "  </tbody>\n",
       "</table>\n",
       "</div>"
      ],
      "text/plain": [
       "            dnum                                      all_play_item  \\\n",
       "19814  516672266  [76n6vdky9nfocyg, PAD, PAD, PAD, PAD, PAD, PAD...   \n",
       "\n",
       "                                          all_types_list  \\\n",
       "19814  [[冒险, 科幻], [PAD, PAD], [PAD, PAD], [PAD, PAD],...   \n",
       "\n",
       "                                    all_play_action_date  \\\n",
       "19814  [2023-08-09, PAD, PAD, PAD, PAD, PAD, PAD, PAD...   \n",
       "\n",
       "                                      all_play_diff_date  \\\n",
       "19814  [0, PAD, PAD, PAD, PAD, PAD, PAD, PAD, PAD, PA...   \n",
       "\n",
       "                                     all_played_duration  \\\n",
       "19814  [360, PAD, PAD, PAD, PAD, PAD, PAD, PAD, PAD, ...   \n",
       "\n",
       "                                        all_types_list_1  \\\n",
       "19814  [冒险, PAD, PAD, PAD, PAD, PAD, PAD, PAD, PAD, P...   \n",
       "\n",
       "                                        all_types_list_2  \n",
       "19814  [科幻, PAD, PAD, PAD, PAD, PAD, PAD, PAD, PAD, P...  "
      ]
     },
     "execution_count": 38,
     "metadata": {},
     "output_type": "execute_result"
    }
   ],
   "source": [
    "user_play[user_play.dnum=='516672266']"
   ]
  },
  {
   "cell_type": "code",
   "execution_count": 41,
   "id": "21575cb0",
   "metadata": {},
   "outputs": [],
   "source": [
    "media = pd.read_parquet(\"/data/gangyanyuan/data_rr/movie_10000_plus_media/20230802.parquet\")\n",
    "media_movie = pd.read_parquet(\"/data/gangyanyuan/data_rr/doubaninfo_detail_merged_rr_v2\")"
   ]
  },
  {
   "cell_type": "code",
   "execution_count": 45,
   "id": "ff19ca0a",
   "metadata": {},
   "outputs": [
    {
     "data": {
      "text/plain": [
       "Index(['aid', 'title', 'channel_name', 'vendor_list', 'quality', 'is_pay',\n",
       "       'nation', 'year', 'types', 'summarys', 'directors', 'score', 'language',\n",
       "       'doubanrecommendations', 'doubanduration', 'operate_status',\n",
       "       'content_type', 'tags', 'actors', 'age_min', 'age_max'],\n",
       "      dtype='object')"
      ]
     },
     "execution_count": 45,
     "metadata": {},
     "output_type": "execute_result"
    }
   ],
   "source": [
    "media_movie.columns"
   ]
  },
  {
   "cell_type": "code",
   "execution_count": 14,
   "id": "d4e16321",
   "metadata": {},
   "outputs": [
    {
     "data": {
      "text/html": [
       "<div>\n",
       "<style scoped>\n",
       "    .dataframe tbody tr th:only-of-type {\n",
       "        vertical-align: middle;\n",
       "    }\n",
       "\n",
       "    .dataframe tbody tr th {\n",
       "        vertical-align: top;\n",
       "    }\n",
       "\n",
       "    .dataframe thead th {\n",
       "        text-align: right;\n",
       "    }\n",
       "</style>\n",
       "<table border=\"1\" class=\"dataframe\">\n",
       "  <thead>\n",
       "    <tr style=\"text-align: right;\">\n",
       "      <th></th>\n",
       "      <th>id</th>\n",
       "      <th>pool_id</th>\n",
       "      <th>name</th>\n",
       "      <th>description</th>\n",
       "      <th>title</th>\n",
       "      <th>background_1080</th>\n",
       "      <th>url_image_size</th>\n",
       "      <th>org_url_image_size</th>\n",
       "      <th>action_type</th>\n",
       "      <th>action_url</th>\n",
       "      <th>...</th>\n",
       "      <th>user_name</th>\n",
       "      <th>create_time</th>\n",
       "      <th>video_type</th>\n",
       "      <th>video_type_name</th>\n",
       "      <th>states</th>\n",
       "      <th>uuid</th>\n",
       "      <th>multi_size_poster</th>\n",
       "      <th>aid_ispay</th>\n",
       "      <th>is_new</th>\n",
       "      <th>date</th>\n",
       "    </tr>\n",
       "  </thead>\n",
       "  <tbody>\n",
       "    <tr>\n",
       "      <th>343</th>\n",
       "      <td>721073</td>\n",
       "      <td>40</td>\n",
       "      <td>冰雪奇缘</td>\n",
       "      <td></td>\n",
       "      <td>[\"\",\"\"]</td>\n",
       "      <td>http://puui.qpic.cn/vcover_vt_pic/0/bv8m91i5jj...</td>\n",
       "      <td>189</td>\n",
       "      <td>189</td>\n",
       "      <td>2</td>\n",
       "      <td>null</td>\n",
       "      <td>...</td>\n",
       "      <td>高扬</td>\n",
       "      <td>yang28.gao</td>\n",
       "      <td>2023-07-13 14:21:44.0</td>\n",
       "      <td>01001</td>\n",
       "      <td>电影</td>\n",
       "      <td>null</td>\n",
       "      <td>1</td>\n",
       "      <td>5</td>\n",
       "      <td>False</td>\n",
       "      <td>2023-08-02</td>\n",
       "    </tr>\n",
       "  </tbody>\n",
       "</table>\n",
       "<p>1 rows × 34 columns</p>\n",
       "</div>"
      ],
      "text/plain": [
       "         id  pool_id  name description    title  \\\n",
       "343  721073       40  冰雪奇缘              [\"\",\"\"]   \n",
       "\n",
       "                                       background_1080  url_image_size  \\\n",
       "343  http://puui.qpic.cn/vcover_vt_pic/0/bv8m91i5jj...             189   \n",
       "\n",
       "     org_url_image_size  action_type action_url  ... user_name  create_time  \\\n",
       "343                 189            2       null  ...        高扬   yang28.gao   \n",
       "\n",
       "                video_type  video_type_name states  uuid multi_size_poster  \\\n",
       "343  2023-07-13 14:21:44.0            01001     电影  null                 1   \n",
       "\n",
       "    aid_ispay is_new        date  \n",
       "343         5  False  2023-08-02  \n",
       "\n",
       "[1 rows x 34 columns]"
      ]
     },
     "execution_count": 14,
     "metadata": {},
     "output_type": "execute_result"
    }
   ],
   "source": [
    "media[media.vid.isin(['mzc00200ln1dq42','bv8m91i5jj1w1ww'])]"
   ]
  },
  {
   "cell_type": "markdown",
   "id": "b8f6a760",
   "metadata": {},
   "source": [
    " #被点击电影的信息\n",
    " is_pay = 5, 会员免费\n",
    " is_pay =2 单点付费\n",
    " is_pay =1 免费"
   ]
  },
  {
   "cell_type": "code",
   "execution_count": 31,
   "id": "fc235a5e",
   "metadata": {},
   "outputs": [
    {
     "data": {
      "text/html": [
       "<div>\n",
       "<style scoped>\n",
       "    .dataframe tbody tr th:only-of-type {\n",
       "        vertical-align: middle;\n",
       "    }\n",
       "\n",
       "    .dataframe tbody tr th {\n",
       "        vertical-align: top;\n",
       "    }\n",
       "\n",
       "    .dataframe thead th {\n",
       "        text-align: right;\n",
       "    }\n",
       "</style>\n",
       "<table border=\"1\" class=\"dataframe\">\n",
       "  <thead>\n",
       "    <tr style=\"text-align: right;\">\n",
       "      <th></th>\n",
       "      <th>aid</th>\n",
       "      <th>title</th>\n",
       "      <th>is_pay</th>\n",
       "      <th>types</th>\n",
       "      <th>tags</th>\n",
       "      <th>actors</th>\n",
       "      <th>directors</th>\n",
       "      <th>year</th>\n",
       "      <th>nation</th>\n",
       "      <th>language</th>\n",
       "    </tr>\n",
       "  </thead>\n",
       "  <tbody>\n",
       "    <tr>\n",
       "      <th>54132</th>\n",
       "      <td>76n6vdky9nfocyg</td>\n",
       "      <td>阿凡达：水之道</td>\n",
       "      <td>2</td>\n",
       "      <td>[冒险, 科幻, 动作]</td>\n",
       "      <td>[院线, 阿凡达2]</td>\n",
       "      <td>[萨姆·沃辛顿, 佐伊·索尔达娜, 西格妮·韦弗, 史蒂芬·朗, 克利夫·柯蒂斯, 乔·大卫...</td>\n",
       "      <td>[詹姆斯·卡梅隆]</td>\n",
       "      <td>2022</td>\n",
       "      <td>[美国]</td>\n",
       "      <td>[英语]</td>\n",
       "    </tr>\n",
       "  </tbody>\n",
       "</table>\n",
       "</div>"
      ],
      "text/plain": [
       "                   aid    title is_pay         types        tags  \\\n",
       "54132  76n6vdky9nfocyg  阿凡达：水之道      2  [冒险, 科幻, 动作]  [院线, 阿凡达2]   \n",
       "\n",
       "                                                  actors  directors  year  \\\n",
       "54132  [萨姆·沃辛顿, 佐伊·索尔达娜, 西格妮·韦弗, 史蒂芬·朗, 克利夫·柯蒂斯, 乔·大卫...  [詹姆斯·卡梅隆]  2022   \n",
       "\n",
       "      nation language  \n",
       "54132   [美国]     [英语]  "
      ]
     },
     "execution_count": 31,
     "metadata": {},
     "output_type": "execute_result"
    }
   ],
   "source": [
    "media_movie[media_movie.aid=='76n6vdky9nfocyg'][['aid','title','is_pay','types','tags','actors','directors','year','nation','language']]"
   ]
  },
  {
   "cell_type": "code",
   "execution_count": 32,
   "id": "8ee4cd67",
   "metadata": {},
   "outputs": [
    {
     "data": {
      "text/html": [
       "<div>\n",
       "<style scoped>\n",
       "    .dataframe tbody tr th:only-of-type {\n",
       "        vertical-align: middle;\n",
       "    }\n",
       "\n",
       "    .dataframe tbody tr th {\n",
       "        vertical-align: top;\n",
       "    }\n",
       "\n",
       "    .dataframe thead th {\n",
       "        text-align: right;\n",
       "    }\n",
       "</style>\n",
       "<table border=\"1\" class=\"dataframe\">\n",
       "  <thead>\n",
       "    <tr style=\"text-align: right;\">\n",
       "      <th></th>\n",
       "      <th>aid</th>\n",
       "      <th>title</th>\n",
       "      <th>is_pay</th>\n",
       "      <th>types</th>\n",
       "      <th>tags</th>\n",
       "      <th>actors</th>\n",
       "      <th>directors</th>\n",
       "      <th>year</th>\n",
       "      <th>nation</th>\n",
       "      <th>language</th>\n",
       "    </tr>\n",
       "  </thead>\n",
       "  <tbody>\n",
       "    <tr>\n",
       "      <th>13590</th>\n",
       "      <td>bv8m91i5jj1w1ww</td>\n",
       "      <td>冰雪奇缘</td>\n",
       "      <td>5</td>\n",
       "      <td>[奇幻, 歌舞, 喜剧, 音乐, 动画]</td>\n",
       "      <td>[情感, 院线, 迪士尼, 迪斯尼, 白雪皇族, 魔雪奇缘, 冰雪皇族]</td>\n",
       "      <td>None</td>\n",
       "      <td>[克里斯·巴克, 珍妮弗·李]</td>\n",
       "      <td>2013</td>\n",
       "      <td>[美国]</td>\n",
       "      <td>[英语]</td>\n",
       "    </tr>\n",
       "  </tbody>\n",
       "</table>\n",
       "</div>"
      ],
      "text/plain": [
       "                   aid title is_pay                 types  \\\n",
       "13590  bv8m91i5jj1w1ww  冰雪奇缘      5  [奇幻, 歌舞, 喜剧, 音乐, 动画]   \n",
       "\n",
       "                                       tags actors        directors  year  \\\n",
       "13590  [情感, 院线, 迪士尼, 迪斯尼, 白雪皇族, 魔雪奇缘, 冰雪皇族]   None  [克里斯·巴克, 珍妮弗·李]  2013   \n",
       "\n",
       "      nation language  \n",
       "13590   [美国]     [英语]  "
      ]
     },
     "execution_count": 32,
     "metadata": {},
     "output_type": "execute_result"
    }
   ],
   "source": [
    "media_movie[media_movie.aid=='bv8m91i5jj1w1ww'][['aid','title','is_pay','types','tags','actors','directors','year','nation','language']]"
   ]
  },
  {
   "cell_type": "code",
   "execution_count": 33,
   "id": "8028520a",
   "metadata": {},
   "outputs": [
    {
     "data": {
      "text/html": [
       "<div>\n",
       "<style scoped>\n",
       "    .dataframe tbody tr th:only-of-type {\n",
       "        vertical-align: middle;\n",
       "    }\n",
       "\n",
       "    .dataframe tbody tr th {\n",
       "        vertical-align: top;\n",
       "    }\n",
       "\n",
       "    .dataframe thead th {\n",
       "        text-align: right;\n",
       "    }\n",
       "</style>\n",
       "<table border=\"1\" class=\"dataframe\">\n",
       "  <thead>\n",
       "    <tr style=\"text-align: right;\">\n",
       "      <th></th>\n",
       "      <th>aid</th>\n",
       "      <th>title</th>\n",
       "      <th>is_pay</th>\n",
       "      <th>types</th>\n",
       "      <th>tags</th>\n",
       "      <th>actors</th>\n",
       "      <th>directors</th>\n",
       "      <th>year</th>\n",
       "      <th>nation</th>\n",
       "      <th>language</th>\n",
       "    </tr>\n",
       "  </thead>\n",
       "  <tbody>\n",
       "    <tr>\n",
       "      <th>46907</th>\n",
       "      <td>fhe2h7sop52qzza</td>\n",
       "      <td>疯狂动物城</td>\n",
       "      <td>5</td>\n",
       "      <td>[搞笑, 喜剧, 冒险, 励志, 动画]</td>\n",
       "      <td>[院线, 动物, 迪士尼]</td>\n",
       "      <td>None</td>\n",
       "      <td>[拜伦·霍华德, 里奇·摩尔, 杰拉德·布什]</td>\n",
       "      <td>2016</td>\n",
       "      <td>[美国]</td>\n",
       "      <td>[英语]</td>\n",
       "    </tr>\n",
       "  </tbody>\n",
       "</table>\n",
       "</div>"
      ],
      "text/plain": [
       "                   aid  title is_pay                 types           tags  \\\n",
       "46907  fhe2h7sop52qzza  疯狂动物城      5  [搞笑, 喜剧, 冒险, 励志, 动画]  [院线, 动物, 迪士尼]   \n",
       "\n",
       "      actors                directors  year nation language  \n",
       "46907   None  [拜伦·霍华德, 里奇·摩尔, 杰拉德·布什]  2016   [美国]     [英语]  "
      ]
     },
     "execution_count": 33,
     "metadata": {},
     "output_type": "execute_result"
    }
   ],
   "source": [
    "media_movie[media_movie.aid=='fhe2h7sop52qzza'][['aid','title','is_pay','types','tags','actors','directors','year','nation','language']]"
   ]
  },
  {
   "cell_type": "code",
   "execution_count": 34,
   "id": "915dfeaa",
   "metadata": {},
   "outputs": [
    {
     "data": {
      "text/html": [
       "<div>\n",
       "<style scoped>\n",
       "    .dataframe tbody tr th:only-of-type {\n",
       "        vertical-align: middle;\n",
       "    }\n",
       "\n",
       "    .dataframe tbody tr th {\n",
       "        vertical-align: top;\n",
       "    }\n",
       "\n",
       "    .dataframe thead th {\n",
       "        text-align: right;\n",
       "    }\n",
       "</style>\n",
       "<table border=\"1\" class=\"dataframe\">\n",
       "  <thead>\n",
       "    <tr style=\"text-align: right;\">\n",
       "      <th></th>\n",
       "      <th>aid</th>\n",
       "      <th>title</th>\n",
       "      <th>is_pay</th>\n",
       "      <th>types</th>\n",
       "      <th>tags</th>\n",
       "      <th>actors</th>\n",
       "      <th>directors</th>\n",
       "      <th>year</th>\n",
       "      <th>nation</th>\n",
       "      <th>language</th>\n",
       "    </tr>\n",
       "  </thead>\n",
       "  <tbody>\n",
       "    <tr>\n",
       "      <th>3182</th>\n",
       "      <td>mzc00200kzadcff</td>\n",
       "      <td>龙马精神</td>\n",
       "      <td>5</td>\n",
       "      <td>[剧情, 喜剧, 动作]</td>\n",
       "      <td>[院线]</td>\n",
       "      <td>[成龙, 刘浩存, 郭麒麟, 吴京, 余皑磊, 容祖儿, 于荣光, 小沈阳, 潘斌龙, 贾冰...</td>\n",
       "      <td>[杨子]</td>\n",
       "      <td>2023</td>\n",
       "      <td>[大陆]</td>\n",
       "      <td>[普通话]</td>\n",
       "    </tr>\n",
       "  </tbody>\n",
       "</table>\n",
       "</div>"
      ],
      "text/plain": [
       "                  aid title is_pay         types  tags  \\\n",
       "3182  mzc00200kzadcff  龙马精神      5  [剧情, 喜剧, 动作]  [院线]   \n",
       "\n",
       "                                                 actors directors  year  \\\n",
       "3182  [成龙, 刘浩存, 郭麒麟, 吴京, 余皑磊, 容祖儿, 于荣光, 小沈阳, 潘斌龙, 贾冰...      [杨子]  2023   \n",
       "\n",
       "     nation language  \n",
       "3182   [大陆]    [普通话]  "
      ]
     },
     "execution_count": 34,
     "metadata": {},
     "output_type": "execute_result"
    }
   ],
   "source": [
    "media_movie[media_movie.aid=='mzc00200kzadcff'][['aid','title','is_pay','types','tags','actors','directors','year','nation','language']]"
   ]
  },
  {
   "cell_type": "markdown",
   "id": "6b0999d3",
   "metadata": {
    "heading_collapsed": true
   },
   "source": [
    "#找一下用户前N=2天.联系有点击行为的媒资，第三天付费"
   ]
  },
  {
   "cell_type": "code",
   "execution_count": 87,
   "id": "581371cd",
   "metadata": {
    "hidden": true
   },
   "outputs": [
    {
     "ename": "AttributeError",
     "evalue": "'DataFrame' object has no attribute 'date'",
     "output_type": "error",
     "traceback": [
      "\u001b[0;31m---------------------------------------------------------------------------\u001b[0m",
      "\u001b[0;31mAttributeError\u001b[0m                            Traceback (most recent call last)",
      "\u001b[0;32m/tmp/ipykernel_30489/6424929.py\u001b[0m in \u001b[0;36m<module>\u001b[0;34m\u001b[0m\n\u001b[0;32m----> 1\u001b[0;31m \u001b[0muser_click_ndays\u001b[0m \u001b[0;34m=\u001b[0m \u001b[0mclick_df\u001b[0m\u001b[0;34m[\u001b[0m\u001b[0mclick_df\u001b[0m\u001b[0;34m.\u001b[0m\u001b[0mdate\u001b[0m\u001b[0;34m<=\u001b[0m\u001b[0;34m'2023-08-07'\u001b[0m\u001b[0;34m]\u001b[0m\u001b[0;34m.\u001b[0m\u001b[0mgroupby\u001b[0m\u001b[0;34m(\u001b[0m\u001b[0;34m[\u001b[0m\u001b[0;34m'dnum'\u001b[0m\u001b[0;34m,\u001b[0m\u001b[0;34m'title'\u001b[0m\u001b[0;34m]\u001b[0m\u001b[0;34m)\u001b[0m\u001b[0;34m.\u001b[0m\u001b[0magg\u001b[0m\u001b[0;34m(\u001b[0m\u001b[0;34m{\u001b[0m\u001b[0;34m\"date\"\u001b[0m\u001b[0;34m:\u001b[0m\u001b[0;34m\"nunique\"\u001b[0m\u001b[0;34m}\u001b[0m\u001b[0;34m)\u001b[0m\u001b[0;34m.\u001b[0m\u001b[0mreset_index\u001b[0m\u001b[0;34m(\u001b[0m\u001b[0;34m)\u001b[0m\u001b[0;34m\u001b[0m\u001b[0;34m\u001b[0m\u001b[0m\n\u001b[0m\u001b[1;32m      2\u001b[0m \u001b[0muser_click_ndays\u001b[0m \u001b[0;34m=\u001b[0m \u001b[0muser_click_ndays\u001b[0m\u001b[0;34m[\u001b[0m\u001b[0muser_click_ndays\u001b[0m\u001b[0;34m.\u001b[0m\u001b[0mdate\u001b[0m\u001b[0;34m>=\u001b[0m\u001b[0;36m2\u001b[0m\u001b[0;34m]\u001b[0m\u001b[0;34m\u001b[0m\u001b[0;34m\u001b[0m\u001b[0m\n",
      "\u001b[0;32m/usr/lib/spark-current/python/pyspark/sql/dataframe.py\u001b[0m in \u001b[0;36m__getattr__\u001b[0;34m(self, name)\u001b[0m\n\u001b[1;32m   1303\u001b[0m         \u001b[0;32mif\u001b[0m \u001b[0mname\u001b[0m \u001b[0;32mnot\u001b[0m \u001b[0;32min\u001b[0m \u001b[0mself\u001b[0m\u001b[0;34m.\u001b[0m\u001b[0mcolumns\u001b[0m\u001b[0;34m:\u001b[0m\u001b[0;34m\u001b[0m\u001b[0;34m\u001b[0m\u001b[0m\n\u001b[1;32m   1304\u001b[0m             raise AttributeError(\n\u001b[0;32m-> 1305\u001b[0;31m                 \"'%s' object has no attribute '%s'\" % (self.__class__.__name__, name))\n\u001b[0m\u001b[1;32m   1306\u001b[0m         \u001b[0mjc\u001b[0m \u001b[0;34m=\u001b[0m \u001b[0mself\u001b[0m\u001b[0;34m.\u001b[0m\u001b[0m_jdf\u001b[0m\u001b[0;34m.\u001b[0m\u001b[0mapply\u001b[0m\u001b[0;34m(\u001b[0m\u001b[0mname\u001b[0m\u001b[0;34m)\u001b[0m\u001b[0;34m\u001b[0m\u001b[0;34m\u001b[0m\u001b[0m\n\u001b[1;32m   1307\u001b[0m         \u001b[0;32mreturn\u001b[0m \u001b[0mColumn\u001b[0m\u001b[0;34m(\u001b[0m\u001b[0mjc\u001b[0m\u001b[0;34m)\u001b[0m\u001b[0;34m\u001b[0m\u001b[0;34m\u001b[0m\u001b[0m\n",
      "\u001b[0;31mAttributeError\u001b[0m: 'DataFrame' object has no attribute 'date'"
     ]
    }
   ],
   "source": [
    "user_click_ndays = click_df[click_df.date<='2023-08-07'].groupby(['dnum','title']).agg({\"date\":\"nunique\"}).reset_index()\n",
    "user_click_ndays = user_click_ndays[user_click_ndays.date>=2]"
   ]
  },
  {
   "cell_type": "code",
   "execution_count": 191,
   "id": "7f6a1891",
   "metadata": {
    "hidden": true
   },
   "outputs": [
    {
     "data": {
      "text/html": [
       "<div>\n",
       "<style scoped>\n",
       "    .dataframe tbody tr th:only-of-type {\n",
       "        vertical-align: middle;\n",
       "    }\n",
       "\n",
       "    .dataframe tbody tr th {\n",
       "        vertical-align: top;\n",
       "    }\n",
       "\n",
       "    .dataframe thead th {\n",
       "        text-align: right;\n",
       "    }\n",
       "</style>\n",
       "<table border=\"1\" class=\"dataframe\">\n",
       "  <thead>\n",
       "    <tr style=\"text-align: right;\">\n",
       "      <th></th>\n",
       "      <th>dnum</th>\n",
       "      <th>vid</th>\n",
       "      <th>title</th>\n",
       "      <th>bucket_cate</th>\n",
       "      <th>resourcetype</th>\n",
       "      <th>algo_type</th>\n",
       "      <th>paymode</th>\n",
       "      <th>clicktime</th>\n",
       "      <th>pay_time</th>\n",
       "      <th>user_clk_cnt</th>\n",
       "      <th>user_aid_income</th>\n",
       "      <th>income</th>\n",
       "      <th>sd_income</th>\n",
       "      <th>ecpm</th>\n",
       "      <th>eps_pv</th>\n",
       "      <th>eps_uv</th>\n",
       "      <th>clkc_pv</th>\n",
       "      <th>ctr</th>\n",
       "      <th>bucket</th>\n",
       "      <th>date</th>\n",
       "    </tr>\n",
       "  </thead>\n",
       "  <tbody>\n",
       "    <tr>\n",
       "      <th>0</th>\n",
       "      <td>573948827</td>\n",
       "      <td>bv8m91i5jj1w1ww</td>\n",
       "      <td>冰雪奇缘</td>\n",
       "      <td>hot-basic</td>\n",
       "      <td>人工运营</td>\n",
       "      <td>-</td>\n",
       "      <td>5.0</td>\n",
       "      <td>2023-08-02 23:39:45</td>\n",
       "      <td>2023-08-02 23:50:44</td>\n",
       "      <td>1</td>\n",
       "      <td>9.9</td>\n",
       "      <td>9.90</td>\n",
       "      <td>9.9</td>\n",
       "      <td>3.8417</td>\n",
       "      <td>2577</td>\n",
       "      <td>1681</td>\n",
       "      <td>66</td>\n",
       "      <td>0.0256</td>\n",
       "      <td>7</td>\n",
       "      <td>2</td>\n",
       "    </tr>\n",
       "  </tbody>\n",
       "</table>\n",
       "</div>"
      ],
      "text/plain": [
       "        dnum              vid title bucket_cate resourcetype algo_type  \\\n",
       "0  573948827  bv8m91i5jj1w1ww  冰雪奇缘   hot-basic         人工运营         -   \n",
       "\n",
       "   paymode           clicktime            pay_time  user_clk_cnt  \\\n",
       "0      5.0 2023-08-02 23:39:45 2023-08-02 23:50:44             1   \n",
       "\n",
       "   user_aid_income income  sd_income    ecpm  eps_pv  eps_uv  clkc_pv     ctr  \\\n",
       "0              9.9   9.90        9.9  3.8417    2577    1681       66  0.0256   \n",
       "\n",
       "  bucket  date  \n",
       "0      7     2  "
      ]
     },
     "execution_count": 191,
     "metadata": {},
     "output_type": "execute_result"
    },
    {
     "name": "stderr",
     "output_type": "stream",
     "text": [
      "23/08/04 15:27:12 ERROR [dispatcher-event-loop-4] YarnScheduler: Lost executor 1 on emr-worker-71415.cluster-237382: Container from a bad node: container_e30_1679576612862_1704053_01_000004 on host: emr-worker-71415.cluster-237382. Exit status: 143. Diagnostics: [2023-08-04 15:27:12.636]Container killed on request. Exit code is 143\n",
      "[2023-08-04 15:27:12.636]Container exited with a non-zero exit code 143. \n",
      "[2023-08-04 15:27:12.638]Killed by external signal\n",
      ".\n"
     ]
    }
   ],
   "source": [
    "user_found = pd.merge(pay, user_click_ndays, on=['dnum','title'])\n",
    "user_found"
   ]
  },
  {
   "cell_type": "code",
   "execution_count": 18,
   "id": "54c1bc45",
   "metadata": {
    "hidden": true
   },
   "outputs": [
    {
     "data": {
      "text/html": [
       "<div>\n",
       "<style scoped>\n",
       "    .dataframe tbody tr th:only-of-type {\n",
       "        vertical-align: middle;\n",
       "    }\n",
       "\n",
       "    .dataframe tbody tr th {\n",
       "        vertical-align: top;\n",
       "    }\n",
       "\n",
       "    .dataframe thead th {\n",
       "        text-align: right;\n",
       "    }\n",
       "</style>\n",
       "<table border=\"1\" class=\"dataframe\">\n",
       "  <thead>\n",
       "    <tr style=\"text-align: right;\">\n",
       "      <th></th>\n",
       "      <th></th>\n",
       "      <th>dnum</th>\n",
       "      <th>user_aid_income</th>\n",
       "    </tr>\n",
       "    <tr>\n",
       "      <th>bucket_cate</th>\n",
       "      <th>resourcetype</th>\n",
       "      <th></th>\n",
       "      <th></th>\n",
       "    </tr>\n",
       "  </thead>\n",
       "  <tbody>\n",
       "    <tr>\n",
       "      <th>autoIntV3</th>\n",
       "      <th>推荐算法</th>\n",
       "      <td>2</td>\n",
       "      <td>33.4</td>\n",
       "    </tr>\n",
       "    <tr>\n",
       "      <th rowspan=\"2\" valign=\"top\">hot-basic</th>\n",
       "      <th>人工运营</th>\n",
       "      <td>13</td>\n",
       "      <td>356.0</td>\n",
       "    </tr>\n",
       "    <tr>\n",
       "      <th>推荐算法</th>\n",
       "      <td>9</td>\n",
       "      <td>109.5</td>\n",
       "    </tr>\n",
       "    <tr>\n",
       "      <th>人工</th>\n",
       "      <th>人工运营</th>\n",
       "      <td>6</td>\n",
       "      <td>53.1</td>\n",
       "    </tr>\n",
       "  </tbody>\n",
       "</table>\n",
       "</div>"
      ],
      "text/plain": [
       "                          dnum  user_aid_income\n",
       "bucket_cate resourcetype                       \n",
       "autoIntV3   推荐算法             2             33.4\n",
       "hot-basic   人工运营            13            356.0\n",
       "            推荐算法             9            109.5\n",
       "人工          人工运营             6             53.1"
      ]
     },
     "execution_count": 18,
     "metadata": {},
     "output_type": "execute_result"
    }
   ],
   "source": [
    "user_found.groupby(['bucket_cate','resourcetype']).agg({\"dnum\":\"nunique\",\"user_aid_income\":\"sum\"})"
   ]
  },
  {
   "cell_type": "code",
   "execution_count": 19,
   "id": "6db4412a",
   "metadata": {
    "hidden": true
   },
   "outputs": [
    {
     "data": {
      "text/plain": [
       "(552.0, 552.0)"
      ]
     },
     "execution_count": 19,
     "metadata": {},
     "output_type": "execute_result"
    }
   ],
   "source": [
    "#有付费的用户，第三天的购买都是前两天有连续点击的媒资\n",
    "user_found.user_aid_income.sum(),pay.user_aid_income.sum()"
   ]
  },
  {
   "cell_type": "code",
   "execution_count": 20,
   "id": "93573f8e",
   "metadata": {
    "hidden": true
   },
   "outputs": [
    {
     "data": {
      "text/html": [
       "<div>\n",
       "<style scoped>\n",
       "    .dataframe tbody tr th:only-of-type {\n",
       "        vertical-align: middle;\n",
       "    }\n",
       "\n",
       "    .dataframe tbody tr th {\n",
       "        vertical-align: top;\n",
       "    }\n",
       "\n",
       "    .dataframe thead th {\n",
       "        text-align: right;\n",
       "    }\n",
       "</style>\n",
       "<table border=\"1\" class=\"dataframe\">\n",
       "  <thead>\n",
       "    <tr style=\"text-align: right;\">\n",
       "      <th></th>\n",
       "      <th>dnum</th>\n",
       "      <th>vid</th>\n",
       "      <th>title</th>\n",
       "      <th>bucket_cate</th>\n",
       "      <th>resourcetype</th>\n",
       "      <th>algo_type</th>\n",
       "      <th>paymode</th>\n",
       "      <th>clicktime</th>\n",
       "      <th>pay_time</th>\n",
       "      <th>user_clk_cnt</th>\n",
       "      <th>user_aid_income</th>\n",
       "      <th>income</th>\n",
       "      <th>sd_income</th>\n",
       "      <th>ecpm</th>\n",
       "      <th>eps_pv</th>\n",
       "      <th>eps_uv</th>\n",
       "      <th>clkc_pv</th>\n",
       "      <th>ctr</th>\n",
       "      <th>bucket</th>\n",
       "      <th>date</th>\n",
       "    </tr>\n",
       "  </thead>\n",
       "  <tbody>\n",
       "    <tr>\n",
       "      <th>0</th>\n",
       "      <td>106445692</td>\n",
       "      <td>NaN</td>\n",
       "      <td>冰雪奇缘</td>\n",
       "      <td>NaN</td>\n",
       "      <td>NaN</td>\n",
       "      <td>NaN</td>\n",
       "      <td>NaN</td>\n",
       "      <td>NaT</td>\n",
       "      <td>NaT</td>\n",
       "      <td>NaN</td>\n",
       "      <td>NaN</td>\n",
       "      <td>NaN</td>\n",
       "      <td>NaN</td>\n",
       "      <td>NaN</td>\n",
       "      <td>NaN</td>\n",
       "      <td>NaN</td>\n",
       "      <td>NaN</td>\n",
       "      <td>NaN</td>\n",
       "      <td>NaN</td>\n",
       "      <td>2</td>\n",
       "    </tr>\n",
       "    <tr>\n",
       "      <th>1</th>\n",
       "      <td>106445692</td>\n",
       "      <td>NaN</td>\n",
       "      <td>疯狂动物城</td>\n",
       "      <td>NaN</td>\n",
       "      <td>NaN</td>\n",
       "      <td>NaN</td>\n",
       "      <td>NaN</td>\n",
       "      <td>NaT</td>\n",
       "      <td>NaT</td>\n",
       "      <td>NaN</td>\n",
       "      <td>NaN</td>\n",
       "      <td>NaN</td>\n",
       "      <td>NaN</td>\n",
       "      <td>NaN</td>\n",
       "      <td>NaN</td>\n",
       "      <td>NaN</td>\n",
       "      <td>NaN</td>\n",
       "      <td>NaN</td>\n",
       "      <td>NaN</td>\n",
       "      <td>2</td>\n",
       "    </tr>\n",
       "    <tr>\n",
       "      <th>2</th>\n",
       "      <td>115504745</td>\n",
       "      <td>NaN</td>\n",
       "      <td>狩猎</td>\n",
       "      <td>NaN</td>\n",
       "      <td>NaN</td>\n",
       "      <td>NaN</td>\n",
       "      <td>NaN</td>\n",
       "      <td>NaT</td>\n",
       "      <td>NaT</td>\n",
       "      <td>NaN</td>\n",
       "      <td>NaN</td>\n",
       "      <td>NaN</td>\n",
       "      <td>NaN</td>\n",
       "      <td>NaN</td>\n",
       "      <td>NaN</td>\n",
       "      <td>NaN</td>\n",
       "      <td>NaN</td>\n",
       "      <td>NaN</td>\n",
       "      <td>NaN</td>\n",
       "      <td>2</td>\n",
       "    </tr>\n",
       "    <tr>\n",
       "      <th>3</th>\n",
       "      <td>150858127</td>\n",
       "      <td>NaN</td>\n",
       "      <td>检察风云</td>\n",
       "      <td>NaN</td>\n",
       "      <td>NaN</td>\n",
       "      <td>NaN</td>\n",
       "      <td>NaN</td>\n",
       "      <td>NaT</td>\n",
       "      <td>NaT</td>\n",
       "      <td>NaN</td>\n",
       "      <td>NaN</td>\n",
       "      <td>NaN</td>\n",
       "      <td>NaN</td>\n",
       "      <td>NaN</td>\n",
       "      <td>NaN</td>\n",
       "      <td>NaN</td>\n",
       "      <td>NaN</td>\n",
       "      <td>NaN</td>\n",
       "      <td>NaN</td>\n",
       "      <td>2</td>\n",
       "    </tr>\n",
       "    <tr>\n",
       "      <th>4</th>\n",
       "      <td>150859656</td>\n",
       "      <td>NaN</td>\n",
       "      <td>扫黑行动</td>\n",
       "      <td>NaN</td>\n",
       "      <td>NaN</td>\n",
       "      <td>NaN</td>\n",
       "      <td>NaN</td>\n",
       "      <td>NaT</td>\n",
       "      <td>NaT</td>\n",
       "      <td>NaN</td>\n",
       "      <td>NaN</td>\n",
       "      <td>NaN</td>\n",
       "      <td>NaN</td>\n",
       "      <td>NaN</td>\n",
       "      <td>NaN</td>\n",
       "      <td>NaN</td>\n",
       "      <td>NaN</td>\n",
       "      <td>NaN</td>\n",
       "      <td>NaN</td>\n",
       "      <td>2</td>\n",
       "    </tr>\n",
       "    <tr>\n",
       "      <th>...</th>\n",
       "      <td>...</td>\n",
       "      <td>...</td>\n",
       "      <td>...</td>\n",
       "      <td>...</td>\n",
       "      <td>...</td>\n",
       "      <td>...</td>\n",
       "      <td>...</td>\n",
       "      <td>...</td>\n",
       "      <td>...</td>\n",
       "      <td>...</td>\n",
       "      <td>...</td>\n",
       "      <td>...</td>\n",
       "      <td>...</td>\n",
       "      <td>...</td>\n",
       "      <td>...</td>\n",
       "      <td>...</td>\n",
       "      <td>...</td>\n",
       "      <td>...</td>\n",
       "      <td>...</td>\n",
       "      <td>...</td>\n",
       "    </tr>\n",
       "    <tr>\n",
       "      <th>11544</th>\n",
       "      <td>643003110</td>\n",
       "      <td>NaN</td>\n",
       "      <td>满江红</td>\n",
       "      <td>NaN</td>\n",
       "      <td>NaN</td>\n",
       "      <td>NaN</td>\n",
       "      <td>NaN</td>\n",
       "      <td>NaT</td>\n",
       "      <td>NaT</td>\n",
       "      <td>NaN</td>\n",
       "      <td>NaN</td>\n",
       "      <td>NaN</td>\n",
       "      <td>NaN</td>\n",
       "      <td>NaN</td>\n",
       "      <td>NaN</td>\n",
       "      <td>NaN</td>\n",
       "      <td>NaN</td>\n",
       "      <td>NaN</td>\n",
       "      <td>NaN</td>\n",
       "      <td>2</td>\n",
       "    </tr>\n",
       "    <tr>\n",
       "      <th>11545</th>\n",
       "      <td>643015279</td>\n",
       "      <td>NaN</td>\n",
       "      <td>幸存者1937</td>\n",
       "      <td>NaN</td>\n",
       "      <td>NaN</td>\n",
       "      <td>NaN</td>\n",
       "      <td>NaN</td>\n",
       "      <td>NaT</td>\n",
       "      <td>NaT</td>\n",
       "      <td>NaN</td>\n",
       "      <td>NaN</td>\n",
       "      <td>NaN</td>\n",
       "      <td>NaN</td>\n",
       "      <td>NaN</td>\n",
       "      <td>NaN</td>\n",
       "      <td>NaN</td>\n",
       "      <td>NaN</td>\n",
       "      <td>NaN</td>\n",
       "      <td>NaN</td>\n",
       "      <td>2</td>\n",
       "    </tr>\n",
       "    <tr>\n",
       "      <th>11546</th>\n",
       "      <td>643015287</td>\n",
       "      <td>NaN</td>\n",
       "      <td>幸存者1937</td>\n",
       "      <td>NaN</td>\n",
       "      <td>NaN</td>\n",
       "      <td>NaN</td>\n",
       "      <td>NaN</td>\n",
       "      <td>NaT</td>\n",
       "      <td>NaT</td>\n",
       "      <td>NaN</td>\n",
       "      <td>NaN</td>\n",
       "      <td>NaN</td>\n",
       "      <td>NaN</td>\n",
       "      <td>NaN</td>\n",
       "      <td>NaN</td>\n",
       "      <td>NaN</td>\n",
       "      <td>NaN</td>\n",
       "      <td>NaN</td>\n",
       "      <td>NaN</td>\n",
       "      <td>2</td>\n",
       "    </tr>\n",
       "    <tr>\n",
       "      <th>11547</th>\n",
       "      <td>643015308</td>\n",
       "      <td>NaN</td>\n",
       "      <td>幸存者1937</td>\n",
       "      <td>NaN</td>\n",
       "      <td>NaN</td>\n",
       "      <td>NaN</td>\n",
       "      <td>NaN</td>\n",
       "      <td>NaT</td>\n",
       "      <td>NaT</td>\n",
       "      <td>NaN</td>\n",
       "      <td>NaN</td>\n",
       "      <td>NaN</td>\n",
       "      <td>NaN</td>\n",
       "      <td>NaN</td>\n",
       "      <td>NaN</td>\n",
       "      <td>NaN</td>\n",
       "      <td>NaN</td>\n",
       "      <td>NaN</td>\n",
       "      <td>NaN</td>\n",
       "      <td>2</td>\n",
       "    </tr>\n",
       "    <tr>\n",
       "      <th>11548</th>\n",
       "      <td>643015308</td>\n",
       "      <td>NaN</td>\n",
       "      <td>特战行动队</td>\n",
       "      <td>NaN</td>\n",
       "      <td>NaN</td>\n",
       "      <td>NaN</td>\n",
       "      <td>NaN</td>\n",
       "      <td>NaT</td>\n",
       "      <td>NaT</td>\n",
       "      <td>NaN</td>\n",
       "      <td>NaN</td>\n",
       "      <td>NaN</td>\n",
       "      <td>NaN</td>\n",
       "      <td>NaN</td>\n",
       "      <td>NaN</td>\n",
       "      <td>NaN</td>\n",
       "      <td>NaN</td>\n",
       "      <td>NaN</td>\n",
       "      <td>NaN</td>\n",
       "      <td>2</td>\n",
       "    </tr>\n",
       "  </tbody>\n",
       "</table>\n",
       "<p>11519 rows × 20 columns</p>\n",
       "</div>"
      ],
      "text/plain": [
       "            dnum  vid    title bucket_cate resourcetype algo_type  paymode  \\\n",
       "0      106445692  NaN     冰雪奇缘         NaN          NaN       NaN      NaN   \n",
       "1      106445692  NaN    疯狂动物城         NaN          NaN       NaN      NaN   \n",
       "2      115504745  NaN       狩猎         NaN          NaN       NaN      NaN   \n",
       "3      150858127  NaN     检察风云         NaN          NaN       NaN      NaN   \n",
       "4      150859656  NaN     扫黑行动         NaN          NaN       NaN      NaN   \n",
       "...          ...  ...      ...         ...          ...       ...      ...   \n",
       "11544  643003110  NaN      满江红         NaN          NaN       NaN      NaN   \n",
       "11545  643015279  NaN  幸存者1937         NaN          NaN       NaN      NaN   \n",
       "11546  643015287  NaN  幸存者1937         NaN          NaN       NaN      NaN   \n",
       "11547  643015308  NaN  幸存者1937         NaN          NaN       NaN      NaN   \n",
       "11548  643015308  NaN    特战行动队         NaN          NaN       NaN      NaN   \n",
       "\n",
       "      clicktime pay_time  user_clk_cnt  user_aid_income income  sd_income  \\\n",
       "0           NaT      NaT           NaN              NaN    NaN        NaN   \n",
       "1           NaT      NaT           NaN              NaN    NaN        NaN   \n",
       "2           NaT      NaT           NaN              NaN    NaN        NaN   \n",
       "3           NaT      NaT           NaN              NaN    NaN        NaN   \n",
       "4           NaT      NaT           NaN              NaN    NaN        NaN   \n",
       "...         ...      ...           ...              ...    ...        ...   \n",
       "11544       NaT      NaT           NaN              NaN    NaN        NaN   \n",
       "11545       NaT      NaT           NaN              NaN    NaN        NaN   \n",
       "11546       NaT      NaT           NaN              NaN    NaN        NaN   \n",
       "11547       NaT      NaT           NaN              NaN    NaN        NaN   \n",
       "11548       NaT      NaT           NaN              NaN    NaN        NaN   \n",
       "\n",
       "      ecpm  eps_pv  eps_uv  clkc_pv  ctr bucket  date  \n",
       "0      NaN     NaN     NaN      NaN  NaN    NaN     2  \n",
       "1      NaN     NaN     NaN      NaN  NaN    NaN     2  \n",
       "2      NaN     NaN     NaN      NaN  NaN    NaN     2  \n",
       "3      NaN     NaN     NaN      NaN  NaN    NaN     2  \n",
       "4      NaN     NaN     NaN      NaN  NaN    NaN     2  \n",
       "...    ...     ...     ...      ...  ...    ...   ...  \n",
       "11544  NaN     NaN     NaN      NaN  NaN    NaN     2  \n",
       "11545  NaN     NaN     NaN      NaN  NaN    NaN     2  \n",
       "11546  NaN     NaN     NaN      NaN  NaN    NaN     2  \n",
       "11547  NaN     NaN     NaN      NaN  NaN    NaN     2  \n",
       "11548  NaN     NaN     NaN      NaN  NaN    NaN     2  \n",
       "\n",
       "[11519 rows x 20 columns]"
      ]
     },
     "execution_count": 20,
     "metadata": {},
     "output_type": "execute_result"
    }
   ],
   "source": [
    "#也有些用户连续两天点击，但是未购买\n",
    "user_not_found = pd.merge(pay, user_click_ndays, on=['dnum','title'],how='right')\n",
    "user_not_found[user_not_found.user_aid_income.isna()]"
   ]
  }
 ],
 "metadata": {
  "kernelspec": {
   "display_name": "cq1",
   "language": "python",
   "name": "python3"
  },
  "language_info": {
   "codemirror_mode": {
    "name": "ipython",
    "version": 3
   },
   "file_extension": ".py",
   "mimetype": "text/x-python",
   "name": "python",
   "nbconvert_exporter": "python",
   "pygments_lexer": "ipython3",
   "version": "3.9.16"
  },
  "toc": {
   "base_numbering": 1,
   "nav_menu": {},
   "number_sections": true,
   "sideBar": true,
   "skip_h1_title": false,
   "title_cell": "Table of Contents",
   "title_sidebar": "Contents",
   "toc_cell": false,
   "toc_position": {},
   "toc_section_display": true,
   "toc_window_display": false
  }
 },
 "nbformat": 4,
 "nbformat_minor": 5
}
